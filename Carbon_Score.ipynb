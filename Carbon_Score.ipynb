{
  "nbformat": 4,
  "nbformat_minor": 0,
  "metadata": {
    "colab": {
      "name": "Copy of Copy of Getting started with BigQuery",
      "provenance": [],
      "collapsed_sections": [],
      "machine_shape": "hm"
    },
    "kernelspec": {
      "display_name": "Python 3",
      "name": "python3"
    },
    "accelerator": "GPU"
  },
  "cells": [
    {
      "cell_type": "markdown",
      "metadata": {
        "id": "KcAZ2RHCg_Ze"
      },
      "source": [
        "# Before you begin\n",
        "\n",
        "\n",
        "1.   Use the [Cloud Resource Manager](https://console.cloud.google.com/cloud-resource-manager) to Create a Cloud Platform project if you do not already have one.\n",
        "2.   [Enable billing](https://support.google.com/cloud/answer/6293499#enable-billing) for the project.\n",
        "3.   [Enable BigQuery](https://console.cloud.google.com/flows/enableapi?apiid=bigquery) APIs for the project.\n"
      ]
    },
    {
      "cell_type": "markdown",
      "metadata": {
        "id": "qTmLBxDxBAZL"
      },
      "source": [
        "### Provide your credentials to the runtime"
      ]
    },
    {
      "cell_type": "code",
      "metadata": {
        "id": "NEg2JZV4s1hP",
        "colab": {
          "base_uri": "https://localhost:8080/"
        },
        "outputId": "fd0d7dbb-f0b2-48a3-9e1d-0b613c9465c3"
      },
      "source": [
        "%tensorflow_version 2.x\n",
        "import tensorflow as tf\n",
        "device_name = tf.test.gpu_device_name()\n",
        "if device_name != '/device:GPU:0':\n",
        "  raise SystemError('GPU device not found')\n",
        "print('Found GPU at: {}'.format(device_name))"
      ],
      "execution_count": null,
      "outputs": [
        {
          "output_type": "stream",
          "name": "stdout",
          "text": [
            "Found GPU at: /device:GPU:0\n"
          ]
        }
      ]
    },
    {
      "cell_type": "code",
      "metadata": {
        "colab": {
          "base_uri": "https://localhost:8080/"
        },
        "id": "SeTJb51SKs_W",
        "outputId": "951f5b9e-0fec-48ff-e1b3-5809766d38e4"
      },
      "source": [
        "from google.colab import auth\n",
        "auth.authenticate_user()\n",
        "print('Authenticated')"
      ],
      "execution_count": null,
      "outputs": [
        {
          "output_type": "stream",
          "name": "stdout",
          "text": [
            "Authenticated\n"
          ]
        }
      ]
    },
    {
      "cell_type": "code",
      "metadata": {
        "id": "Un3oRldABm0G"
      },
      "source": [
        "from sklearn.preprocessing import LabelEncoder\n",
        "import xgboost as xgb\n",
        "from sklearn.model_selection import train_test_split\n",
        "from sklearn.preprocessing import MinMaxScaler\n",
        "from sklearn.metrics import mean_squared_error\n",
        "from sklearn.ensemble import GradientBoostingRegressor, RandomForestClassifier, RandomForestRegressor"
      ],
      "execution_count": null,
      "outputs": []
    },
    {
      "cell_type": "code",
      "metadata": {
        "colab": {
          "base_uri": "https://localhost:8080/"
        },
        "id": "TdGSmRxCRlQk",
        "outputId": "d492e38e-286b-45b1-cd2b-e53bbcfc5221"
      },
      "source": [
        "from google.colab import drive\n",
        "drive.mount(\"/content/drive\")"
      ],
      "execution_count": null,
      "outputs": [
        {
          "output_type": "stream",
          "name": "stdout",
          "text": [
            "Mounted at /content/drive\n"
          ]
        }
      ]
    },
    {
      "cell_type": "code",
      "metadata": {
        "id": "4CVi-ZH6SBa1"
      },
      "source": [
        "import pandas as pd"
      ],
      "execution_count": null,
      "outputs": []
    },
    {
      "cell_type": "markdown",
      "metadata": {
        "id": "fkhbyGaXKs_6"
      },
      "source": [
        "# Use BigQuery through google-cloud-bigquery\n",
        "\n",
        "See [BigQuery documentation](https://cloud.google.com/bigquery/docs) and [library reference documentation](https://googlecloudplatform.github.io/google-cloud-python/latest/bigquery/usage.html).\n",
        "\n",
        "The [GSOD sample table](https://bigquery.cloud.google.com/table/bigquery-public-data:samples.gsod) contains weather information collected by NOAA, such as precipitation amounts and wind speeds from late 1929 to early 2010.\n"
      ]
    },
    {
      "cell_type": "markdown",
      "metadata": {
        "id": "goQQ96EDKs_7"
      },
      "source": [
        "### Declare the Cloud project ID which will be used throughout this notebook"
      ]
    },
    {
      "cell_type": "code",
      "metadata": {
        "id": "hWK0nJWgKs_8"
      },
      "source": [
        "project_id = 'cmpe272-332502'"
      ],
      "execution_count": null,
      "outputs": []
    },
    {
      "cell_type": "code",
      "metadata": {
        "id": "ONI1Xo0-KtAD"
      },
      "source": [
        "from google.cloud import bigquery\n",
        "\n",
        "client = bigquery.Client(project=project_id)\n",
        "\n",
        "\n",
        "df = client.query('''\n",
        " SELECT  * FROM `bigquery-public-data.epa_historical_air_quality.co_daily_summary` where date_local >= \"2009-01-01\"\n",
        "''').to_dataframe()\n",
        "\n",
        "# df = pd.read_csv(\"/content/drive/MyDrive/272/final.csv\")"
      ],
      "execution_count": null,
      "outputs": []
    },
    {
      "cell_type": "code",
      "metadata": {
        "colab": {
          "base_uri": "https://localhost:8080/",
          "height": 452
        },
        "id": "uYqKFqK5y-vl",
        "outputId": "05f74071-d9e1-4ca6-9de5-20c1cbe735e0"
      },
      "source": [
        "df.head()"
      ],
      "execution_count": null,
      "outputs": [
        {
          "output_type": "execute_result",
          "data": {
            "text/html": [
              "<div>\n",
              "<style scoped>\n",
              "    .dataframe tbody tr th:only-of-type {\n",
              "        vertical-align: middle;\n",
              "    }\n",
              "\n",
              "    .dataframe tbody tr th {\n",
              "        vertical-align: top;\n",
              "    }\n",
              "\n",
              "    .dataframe thead th {\n",
              "        text-align: right;\n",
              "    }\n",
              "</style>\n",
              "<table border=\"1\" class=\"dataframe\">\n",
              "  <thead>\n",
              "    <tr style=\"text-align: right;\">\n",
              "      <th></th>\n",
              "      <th>state_code</th>\n",
              "      <th>county_code</th>\n",
              "      <th>site_num</th>\n",
              "      <th>parameter_code</th>\n",
              "      <th>poc</th>\n",
              "      <th>latitude</th>\n",
              "      <th>longitude</th>\n",
              "      <th>datum</th>\n",
              "      <th>parameter_name</th>\n",
              "      <th>sample_duration</th>\n",
              "      <th>pollutant_standard</th>\n",
              "      <th>date_local</th>\n",
              "      <th>units_of_measure</th>\n",
              "      <th>event_type</th>\n",
              "      <th>observation_count</th>\n",
              "      <th>observation_percent</th>\n",
              "      <th>arithmetic_mean</th>\n",
              "      <th>first_max_value</th>\n",
              "      <th>first_max_hour</th>\n",
              "      <th>aqi</th>\n",
              "      <th>method_code</th>\n",
              "      <th>method_name</th>\n",
              "      <th>local_site_name</th>\n",
              "      <th>address</th>\n",
              "      <th>state_name</th>\n",
              "      <th>county_name</th>\n",
              "      <th>city_name</th>\n",
              "      <th>cbsa_name</th>\n",
              "      <th>date_of_last_change</th>\n",
              "    </tr>\n",
              "  </thead>\n",
              "  <tbody>\n",
              "    <tr>\n",
              "      <th>0</th>\n",
              "      <td>2</td>\n",
              "      <td>20</td>\n",
              "      <td>48</td>\n",
              "      <td>42101</td>\n",
              "      <td>1</td>\n",
              "      <td>61.191514</td>\n",
              "      <td>-149.934930</td>\n",
              "      <td>WGS84</td>\n",
              "      <td>Carbon monoxide</td>\n",
              "      <td>1 HOUR</td>\n",
              "      <td>CO 1-hour 1971</td>\n",
              "      <td>2012-10-12</td>\n",
              "      <td>Parts per million</td>\n",
              "      <td>None</td>\n",
              "      <td>24</td>\n",
              "      <td>100.0</td>\n",
              "      <td>1.041667</td>\n",
              "      <td>4.5</td>\n",
              "      <td>7</td>\n",
              "      <td>NaN</td>\n",
              "      <td>54.0</td>\n",
              "      <td>INSTRUMENTAL - NONDISPERSIVE INFRARED</td>\n",
              "      <td>UNITARIAN CHURCH</td>\n",
              "      <td>3201 TURNAGAIN STREET</td>\n",
              "      <td>Alaska</td>\n",
              "      <td>Anchorage</td>\n",
              "      <td>Anchorage</td>\n",
              "      <td>Anchorage, AK</td>\n",
              "      <td>2018-06-04</td>\n",
              "    </tr>\n",
              "    <tr>\n",
              "      <th>1</th>\n",
              "      <td>2</td>\n",
              "      <td>20</td>\n",
              "      <td>52</td>\n",
              "      <td>42101</td>\n",
              "      <td>1</td>\n",
              "      <td>61.215027</td>\n",
              "      <td>-149.903111</td>\n",
              "      <td>WGS84</td>\n",
              "      <td>Carbon monoxide</td>\n",
              "      <td>1 HOUR</td>\n",
              "      <td>CO 1-hour 1971</td>\n",
              "      <td>2012-01-11</td>\n",
              "      <td>Parts per million</td>\n",
              "      <td>None</td>\n",
              "      <td>24</td>\n",
              "      <td>100.0</td>\n",
              "      <td>0.279167</td>\n",
              "      <td>1.3</td>\n",
              "      <td>17</td>\n",
              "      <td>NaN</td>\n",
              "      <td>54.0</td>\n",
              "      <td>INSTRUMENTAL - NONDISPERSIVE INFRARED</td>\n",
              "      <td>DHHS</td>\n",
              "      <td>727 L Street</td>\n",
              "      <td>Alaska</td>\n",
              "      <td>Anchorage</td>\n",
              "      <td>Anchorage</td>\n",
              "      <td>Anchorage, AK</td>\n",
              "      <td>2016-04-08</td>\n",
              "    </tr>\n",
              "    <tr>\n",
              "      <th>2</th>\n",
              "      <td>2</td>\n",
              "      <td>20</td>\n",
              "      <td>52</td>\n",
              "      <td>42101</td>\n",
              "      <td>1</td>\n",
              "      <td>61.215027</td>\n",
              "      <td>-149.903111</td>\n",
              "      <td>WGS84</td>\n",
              "      <td>Carbon monoxide</td>\n",
              "      <td>1 HOUR</td>\n",
              "      <td>CO 1-hour 1971</td>\n",
              "      <td>2012-03-29</td>\n",
              "      <td>Parts per million</td>\n",
              "      <td>None</td>\n",
              "      <td>24</td>\n",
              "      <td>100.0</td>\n",
              "      <td>0.445833</td>\n",
              "      <td>0.9</td>\n",
              "      <td>6</td>\n",
              "      <td>NaN</td>\n",
              "      <td>54.0</td>\n",
              "      <td>INSTRUMENTAL - NONDISPERSIVE INFRARED</td>\n",
              "      <td>DHHS</td>\n",
              "      <td>727 L Street</td>\n",
              "      <td>Alaska</td>\n",
              "      <td>Anchorage</td>\n",
              "      <td>Anchorage</td>\n",
              "      <td>Anchorage, AK</td>\n",
              "      <td>2016-04-08</td>\n",
              "    </tr>\n",
              "    <tr>\n",
              "      <th>3</th>\n",
              "      <td>2</td>\n",
              "      <td>20</td>\n",
              "      <td>52</td>\n",
              "      <td>42101</td>\n",
              "      <td>1</td>\n",
              "      <td>61.215027</td>\n",
              "      <td>-149.903111</td>\n",
              "      <td>WGS84</td>\n",
              "      <td>Carbon monoxide</td>\n",
              "      <td>8-HR RUN AVG END HOUR</td>\n",
              "      <td>CO 8-hour 1971</td>\n",
              "      <td>2012-11-01</td>\n",
              "      <td>Parts per million</td>\n",
              "      <td>None</td>\n",
              "      <td>24</td>\n",
              "      <td>100.0</td>\n",
              "      <td>0.379167</td>\n",
              "      <td>0.7</td>\n",
              "      <td>0</td>\n",
              "      <td>8.0</td>\n",
              "      <td>NaN</td>\n",
              "      <td>-</td>\n",
              "      <td>DHHS</td>\n",
              "      <td>727 L Street</td>\n",
              "      <td>Alaska</td>\n",
              "      <td>Anchorage</td>\n",
              "      <td>Anchorage</td>\n",
              "      <td>Anchorage, AK</td>\n",
              "      <td>2016-04-08</td>\n",
              "    </tr>\n",
              "    <tr>\n",
              "      <th>4</th>\n",
              "      <td>6</td>\n",
              "      <td>29</td>\n",
              "      <td>2012</td>\n",
              "      <td>42101</td>\n",
              "      <td>1</td>\n",
              "      <td>35.331612</td>\n",
              "      <td>-118.999961</td>\n",
              "      <td>NAD83</td>\n",
              "      <td>Carbon monoxide</td>\n",
              "      <td>1 HOUR</td>\n",
              "      <td>CO 1-hour 1971</td>\n",
              "      <td>2012-08-21</td>\n",
              "      <td>Parts per million</td>\n",
              "      <td>None</td>\n",
              "      <td>21</td>\n",
              "      <td>88.0</td>\n",
              "      <td>0.261905</td>\n",
              "      <td>0.4</td>\n",
              "      <td>9</td>\n",
              "      <td>NaN</td>\n",
              "      <td>54.0</td>\n",
              "      <td>INSTRUMENTAL - NONDISPERSIVE INFRARED</td>\n",
              "      <td>Bakersfield-Muni</td>\n",
              "      <td>2000 South Union Ave. Bakersfield CA  93307</td>\n",
              "      <td>California</td>\n",
              "      <td>Kern</td>\n",
              "      <td>Bakersfield</td>\n",
              "      <td>Bakersfield, CA</td>\n",
              "      <td>2016-04-09</td>\n",
              "    </tr>\n",
              "  </tbody>\n",
              "</table>\n",
              "</div>"
            ],
            "text/plain": [
              "   state_code  county_code  ...        cbsa_name  date_of_last_change\n",
              "0           2           20  ...    Anchorage, AK           2018-06-04\n",
              "1           2           20  ...    Anchorage, AK           2016-04-08\n",
              "2           2           20  ...    Anchorage, AK           2016-04-08\n",
              "3           2           20  ...    Anchorage, AK           2016-04-08\n",
              "4           6           29  ...  Bakersfield, CA           2016-04-09\n",
              "\n",
              "[5 rows x 29 columns]"
            ]
          },
          "metadata": {},
          "execution_count": 9
        }
      ]
    },
    {
      "cell_type": "markdown",
      "metadata": {
        "id": "Bu2C7iWMKtAM"
      },
      "source": [
        "### Describe the sampled data"
      ]
    },
    {
      "cell_type": "code",
      "metadata": {
        "colab": {
          "base_uri": "https://localhost:8080/",
          "height": 320
        },
        "id": "XrFmZBr9KtAN",
        "outputId": "b60ec8ad-f092-46ac-8fbd-d14246f4d6d5"
      },
      "source": [
        "df.describe()"
      ],
      "execution_count": null,
      "outputs": [
        {
          "output_type": "execute_result",
          "data": {
            "text/html": [
              "<div>\n",
              "<style scoped>\n",
              "    .dataframe tbody tr th:only-of-type {\n",
              "        vertical-align: middle;\n",
              "    }\n",
              "\n",
              "    .dataframe tbody tr th {\n",
              "        vertical-align: top;\n",
              "    }\n",
              "\n",
              "    .dataframe thead th {\n",
              "        text-align: right;\n",
              "    }\n",
              "</style>\n",
              "<table border=\"1\" class=\"dataframe\">\n",
              "  <thead>\n",
              "    <tr style=\"text-align: right;\">\n",
              "      <th></th>\n",
              "      <th>state_code</th>\n",
              "      <th>county_code</th>\n",
              "      <th>site_num</th>\n",
              "      <th>parameter_code</th>\n",
              "      <th>poc</th>\n",
              "      <th>latitude</th>\n",
              "      <th>longitude</th>\n",
              "      <th>observation_count</th>\n",
              "      <th>observation_percent</th>\n",
              "      <th>arithmetic_mean</th>\n",
              "      <th>first_max_value</th>\n",
              "      <th>first_max_hour</th>\n",
              "      <th>aqi</th>\n",
              "      <th>method_code</th>\n",
              "    </tr>\n",
              "  </thead>\n",
              "  <tbody>\n",
              "    <tr>\n",
              "      <th>count</th>\n",
              "      <td>2.356603e+06</td>\n",
              "      <td>2.356603e+06</td>\n",
              "      <td>2.356603e+06</td>\n",
              "      <td>2356603.0</td>\n",
              "      <td>2.356603e+06</td>\n",
              "      <td>2.356603e+06</td>\n",
              "      <td>2.356603e+06</td>\n",
              "      <td>2.356603e+06</td>\n",
              "      <td>2.356603e+06</td>\n",
              "      <td>2.356603e+06</td>\n",
              "      <td>2.356603e+06</td>\n",
              "      <td>2.356603e+06</td>\n",
              "      <td>1.178308e+06</td>\n",
              "      <td>1.178295e+06</td>\n",
              "    </tr>\n",
              "    <tr>\n",
              "      <th>mean</th>\n",
              "      <td>2.478019e+01</td>\n",
              "      <td>7.650256e+01</td>\n",
              "      <td>9.011486e+02</td>\n",
              "      <td>42101.0</td>\n",
              "      <td>1.147431e+00</td>\n",
              "      <td>3.752664e+01</td>\n",
              "      <td>-9.805205e+01</td>\n",
              "      <td>2.327752e+01</td>\n",
              "      <td>9.704557e+01</td>\n",
              "      <td>3.163669e-01</td>\n",
              "      <td>5.150626e-01</td>\n",
              "      <td>7.932945e+00</td>\n",
              "      <td>4.993341e+00</td>\n",
              "      <td>2.345471e+02</td>\n",
              "    </tr>\n",
              "    <tr>\n",
              "      <th>std</th>\n",
              "      <td>1.810628e+01</td>\n",
              "      <td>1.058310e+02</td>\n",
              "      <td>1.802894e+03</td>\n",
              "      <td>0.0</td>\n",
              "      <td>6.839221e-01</td>\n",
              "      <td>5.549900e+00</td>\n",
              "      <td>1.938084e+01</td>\n",
              "      <td>2.158731e+00</td>\n",
              "      <td>8.937323e+00</td>\n",
              "      <td>2.552046e-01</td>\n",
              "      <td>5.030489e-01</td>\n",
              "      <td>7.915253e+00</td>\n",
              "      <td>4.347717e+00</td>\n",
              "      <td>2.309118e+02</td>\n",
              "    </tr>\n",
              "    <tr>\n",
              "      <th>min</th>\n",
              "      <td>1.000000e+00</td>\n",
              "      <td>1.000000e+00</td>\n",
              "      <td>1.000000e+00</td>\n",
              "      <td>42101.0</td>\n",
              "      <td>1.000000e+00</td>\n",
              "      <td>1.800956e+01</td>\n",
              "      <td>-1.593662e+02</td>\n",
              "      <td>1.000000e+00</td>\n",
              "      <td>4.000000e+00</td>\n",
              "      <td>-5.000000e-01</td>\n",
              "      <td>-5.000000e-01</td>\n",
              "      <td>0.000000e+00</td>\n",
              "      <td>0.000000e+00</td>\n",
              "      <td>4.100000e+01</td>\n",
              "    </tr>\n",
              "    <tr>\n",
              "      <th>25%</th>\n",
              "      <td>6.000000e+00</td>\n",
              "      <td>1.900000e+01</td>\n",
              "      <td>1.100000e+01</td>\n",
              "      <td>42101.0</td>\n",
              "      <td>1.000000e+00</td>\n",
              "      <td>3.399958e+01</td>\n",
              "      <td>-1.174006e+02</td>\n",
              "      <td>2.300000e+01</td>\n",
              "      <td>9.600000e+01</td>\n",
              "      <td>1.750000e-01</td>\n",
              "      <td>2.040000e-01</td>\n",
              "      <td>0.000000e+00</td>\n",
              "      <td>2.000000e+00</td>\n",
              "      <td>5.400000e+01</td>\n",
              "    </tr>\n",
              "    <tr>\n",
              "      <th>50%</th>\n",
              "      <td>2.400000e+01</td>\n",
              "      <td>4.900000e+01</td>\n",
              "      <td>4.100000e+01</td>\n",
              "      <td>42101.0</td>\n",
              "      <td>1.000000e+00</td>\n",
              "      <td>3.819360e+01</td>\n",
              "      <td>-9.525759e+01</td>\n",
              "      <td>2.400000e+01</td>\n",
              "      <td>1.000000e+02</td>\n",
              "      <td>2.625000e-01</td>\n",
              "      <td>4.000000e-01</td>\n",
              "      <td>6.000000e+00</td>\n",
              "      <td>3.000000e+00</td>\n",
              "      <td>9.300000e+01</td>\n",
              "    </tr>\n",
              "    <tr>\n",
              "      <th>75%</th>\n",
              "      <td>3.900000e+01</td>\n",
              "      <td>9.500000e+01</td>\n",
              "      <td>1.007000e+03</td>\n",
              "      <td>42101.0</td>\n",
              "      <td>1.000000e+00</td>\n",
              "      <td>4.106040e+01</td>\n",
              "      <td>-8.059232e+01</td>\n",
              "      <td>2.400000e+01</td>\n",
              "      <td>1.000000e+02</td>\n",
              "      <td>4.000000e-01</td>\n",
              "      <td>6.000000e-01</td>\n",
              "      <td>1.500000e+01</td>\n",
              "      <td>7.000000e+00</td>\n",
              "      <td>5.540000e+02</td>\n",
              "    </tr>\n",
              "    <tr>\n",
              "      <th>max</th>\n",
              "      <td>8.000000e+01</td>\n",
              "      <td>8.100000e+02</td>\n",
              "      <td>9.997000e+03</td>\n",
              "      <td>42101.0</td>\n",
              "      <td>9.000000e+00</td>\n",
              "      <td>6.484569e+01</td>\n",
              "      <td>-6.605224e+01</td>\n",
              "      <td>2.400000e+01</td>\n",
              "      <td>1.000000e+02</td>\n",
              "      <td>4.566667e+01</td>\n",
              "      <td>5.000000e+01</td>\n",
              "      <td>2.300000e+01</td>\n",
              "      <td>4.530000e+02</td>\n",
              "      <td>5.930000e+02</td>\n",
              "    </tr>\n",
              "  </tbody>\n",
              "</table>\n",
              "</div>"
            ],
            "text/plain": [
              "         state_code   county_code  ...           aqi   method_code\n",
              "count  2.356603e+06  2.356603e+06  ...  1.178308e+06  1.178295e+06\n",
              "mean   2.478019e+01  7.650256e+01  ...  4.993341e+00  2.345471e+02\n",
              "std    1.810628e+01  1.058310e+02  ...  4.347717e+00  2.309118e+02\n",
              "min    1.000000e+00  1.000000e+00  ...  0.000000e+00  4.100000e+01\n",
              "25%    6.000000e+00  1.900000e+01  ...  2.000000e+00  5.400000e+01\n",
              "50%    2.400000e+01  4.900000e+01  ...  3.000000e+00  9.300000e+01\n",
              "75%    3.900000e+01  9.500000e+01  ...  7.000000e+00  5.540000e+02\n",
              "max    8.000000e+01  8.100000e+02  ...  4.530000e+02  5.930000e+02\n",
              "\n",
              "[8 rows x 14 columns]"
            ]
          },
          "metadata": {},
          "execution_count": 11
        }
      ]
    },
    {
      "cell_type": "code",
      "metadata": {
        "id": "0SbGE7ZMxPNe"
      },
      "source": [
        "#df.to_csv(\"/content/drive/MyDrive/272/final.csv\", index=False)"
      ],
      "execution_count": null,
      "outputs": []
    },
    {
      "cell_type": "markdown",
      "metadata": {
        "id": "YBiWBm9jyFT1"
      },
      "source": [
        "# Data Preprocessing"
      ]
    },
    {
      "cell_type": "code",
      "metadata": {
        "id": "qmoj6HXax2KY"
      },
      "source": [
        "import pandas as pd"
      ],
      "execution_count": null,
      "outputs": []
    },
    {
      "cell_type": "code",
      "metadata": {
        "id": "phQHojeZyBAz"
      },
      "source": [
        "df['date_local'] = pd.to_datetime(df['date_local'])"
      ],
      "execution_count": null,
      "outputs": []
    },
    {
      "cell_type": "code",
      "metadata": {
        "colab": {
          "base_uri": "https://localhost:8080/",
          "height": 452
        },
        "id": "YSoxO_loBH7L",
        "outputId": "3b418904-c0cf-488e-c6d6-d00d17119597"
      },
      "source": [
        "df.head()"
      ],
      "execution_count": null,
      "outputs": [
        {
          "output_type": "execute_result",
          "data": {
            "text/html": [
              "<div>\n",
              "<style scoped>\n",
              "    .dataframe tbody tr th:only-of-type {\n",
              "        vertical-align: middle;\n",
              "    }\n",
              "\n",
              "    .dataframe tbody tr th {\n",
              "        vertical-align: top;\n",
              "    }\n",
              "\n",
              "    .dataframe thead th {\n",
              "        text-align: right;\n",
              "    }\n",
              "</style>\n",
              "<table border=\"1\" class=\"dataframe\">\n",
              "  <thead>\n",
              "    <tr style=\"text-align: right;\">\n",
              "      <th></th>\n",
              "      <th>state_code</th>\n",
              "      <th>county_code</th>\n",
              "      <th>site_num</th>\n",
              "      <th>parameter_code</th>\n",
              "      <th>poc</th>\n",
              "      <th>latitude</th>\n",
              "      <th>longitude</th>\n",
              "      <th>datum</th>\n",
              "      <th>parameter_name</th>\n",
              "      <th>sample_duration</th>\n",
              "      <th>pollutant_standard</th>\n",
              "      <th>date_local</th>\n",
              "      <th>units_of_measure</th>\n",
              "      <th>event_type</th>\n",
              "      <th>observation_count</th>\n",
              "      <th>observation_percent</th>\n",
              "      <th>arithmetic_mean</th>\n",
              "      <th>first_max_value</th>\n",
              "      <th>first_max_hour</th>\n",
              "      <th>aqi</th>\n",
              "      <th>method_code</th>\n",
              "      <th>method_name</th>\n",
              "      <th>local_site_name</th>\n",
              "      <th>address</th>\n",
              "      <th>state_name</th>\n",
              "      <th>county_name</th>\n",
              "      <th>city_name</th>\n",
              "      <th>cbsa_name</th>\n",
              "      <th>date_of_last_change</th>\n",
              "    </tr>\n",
              "  </thead>\n",
              "  <tbody>\n",
              "    <tr>\n",
              "      <th>0</th>\n",
              "      <td>2</td>\n",
              "      <td>20</td>\n",
              "      <td>48</td>\n",
              "      <td>42101</td>\n",
              "      <td>1</td>\n",
              "      <td>61.191514</td>\n",
              "      <td>-149.934930</td>\n",
              "      <td>WGS84</td>\n",
              "      <td>Carbon monoxide</td>\n",
              "      <td>1 HOUR</td>\n",
              "      <td>CO 1-hour 1971</td>\n",
              "      <td>2012-10-12</td>\n",
              "      <td>Parts per million</td>\n",
              "      <td>None</td>\n",
              "      <td>24</td>\n",
              "      <td>100.0</td>\n",
              "      <td>1.041667</td>\n",
              "      <td>4.5</td>\n",
              "      <td>7</td>\n",
              "      <td>NaN</td>\n",
              "      <td>54.0</td>\n",
              "      <td>INSTRUMENTAL - NONDISPERSIVE INFRARED</td>\n",
              "      <td>UNITARIAN CHURCH</td>\n",
              "      <td>3201 TURNAGAIN STREET</td>\n",
              "      <td>Alaska</td>\n",
              "      <td>Anchorage</td>\n",
              "      <td>Anchorage</td>\n",
              "      <td>Anchorage, AK</td>\n",
              "      <td>2018-06-04</td>\n",
              "    </tr>\n",
              "    <tr>\n",
              "      <th>1</th>\n",
              "      <td>2</td>\n",
              "      <td>20</td>\n",
              "      <td>52</td>\n",
              "      <td>42101</td>\n",
              "      <td>1</td>\n",
              "      <td>61.215027</td>\n",
              "      <td>-149.903111</td>\n",
              "      <td>WGS84</td>\n",
              "      <td>Carbon monoxide</td>\n",
              "      <td>1 HOUR</td>\n",
              "      <td>CO 1-hour 1971</td>\n",
              "      <td>2012-01-11</td>\n",
              "      <td>Parts per million</td>\n",
              "      <td>None</td>\n",
              "      <td>24</td>\n",
              "      <td>100.0</td>\n",
              "      <td>0.279167</td>\n",
              "      <td>1.3</td>\n",
              "      <td>17</td>\n",
              "      <td>NaN</td>\n",
              "      <td>54.0</td>\n",
              "      <td>INSTRUMENTAL - NONDISPERSIVE INFRARED</td>\n",
              "      <td>DHHS</td>\n",
              "      <td>727 L Street</td>\n",
              "      <td>Alaska</td>\n",
              "      <td>Anchorage</td>\n",
              "      <td>Anchorage</td>\n",
              "      <td>Anchorage, AK</td>\n",
              "      <td>2016-04-08</td>\n",
              "    </tr>\n",
              "    <tr>\n",
              "      <th>2</th>\n",
              "      <td>2</td>\n",
              "      <td>20</td>\n",
              "      <td>52</td>\n",
              "      <td>42101</td>\n",
              "      <td>1</td>\n",
              "      <td>61.215027</td>\n",
              "      <td>-149.903111</td>\n",
              "      <td>WGS84</td>\n",
              "      <td>Carbon monoxide</td>\n",
              "      <td>1 HOUR</td>\n",
              "      <td>CO 1-hour 1971</td>\n",
              "      <td>2012-03-29</td>\n",
              "      <td>Parts per million</td>\n",
              "      <td>None</td>\n",
              "      <td>24</td>\n",
              "      <td>100.0</td>\n",
              "      <td>0.445833</td>\n",
              "      <td>0.9</td>\n",
              "      <td>6</td>\n",
              "      <td>NaN</td>\n",
              "      <td>54.0</td>\n",
              "      <td>INSTRUMENTAL - NONDISPERSIVE INFRARED</td>\n",
              "      <td>DHHS</td>\n",
              "      <td>727 L Street</td>\n",
              "      <td>Alaska</td>\n",
              "      <td>Anchorage</td>\n",
              "      <td>Anchorage</td>\n",
              "      <td>Anchorage, AK</td>\n",
              "      <td>2016-04-08</td>\n",
              "    </tr>\n",
              "    <tr>\n",
              "      <th>3</th>\n",
              "      <td>2</td>\n",
              "      <td>20</td>\n",
              "      <td>52</td>\n",
              "      <td>42101</td>\n",
              "      <td>1</td>\n",
              "      <td>61.215027</td>\n",
              "      <td>-149.903111</td>\n",
              "      <td>WGS84</td>\n",
              "      <td>Carbon monoxide</td>\n",
              "      <td>8-HR RUN AVG END HOUR</td>\n",
              "      <td>CO 8-hour 1971</td>\n",
              "      <td>2012-11-01</td>\n",
              "      <td>Parts per million</td>\n",
              "      <td>None</td>\n",
              "      <td>24</td>\n",
              "      <td>100.0</td>\n",
              "      <td>0.379167</td>\n",
              "      <td>0.7</td>\n",
              "      <td>0</td>\n",
              "      <td>8.0</td>\n",
              "      <td>NaN</td>\n",
              "      <td>-</td>\n",
              "      <td>DHHS</td>\n",
              "      <td>727 L Street</td>\n",
              "      <td>Alaska</td>\n",
              "      <td>Anchorage</td>\n",
              "      <td>Anchorage</td>\n",
              "      <td>Anchorage, AK</td>\n",
              "      <td>2016-04-08</td>\n",
              "    </tr>\n",
              "    <tr>\n",
              "      <th>4</th>\n",
              "      <td>6</td>\n",
              "      <td>29</td>\n",
              "      <td>2012</td>\n",
              "      <td>42101</td>\n",
              "      <td>1</td>\n",
              "      <td>35.331612</td>\n",
              "      <td>-118.999961</td>\n",
              "      <td>NAD83</td>\n",
              "      <td>Carbon monoxide</td>\n",
              "      <td>1 HOUR</td>\n",
              "      <td>CO 1-hour 1971</td>\n",
              "      <td>2012-08-21</td>\n",
              "      <td>Parts per million</td>\n",
              "      <td>None</td>\n",
              "      <td>21</td>\n",
              "      <td>88.0</td>\n",
              "      <td>0.261905</td>\n",
              "      <td>0.4</td>\n",
              "      <td>9</td>\n",
              "      <td>NaN</td>\n",
              "      <td>54.0</td>\n",
              "      <td>INSTRUMENTAL - NONDISPERSIVE INFRARED</td>\n",
              "      <td>Bakersfield-Muni</td>\n",
              "      <td>2000 South Union Ave. Bakersfield CA  93307</td>\n",
              "      <td>California</td>\n",
              "      <td>Kern</td>\n",
              "      <td>Bakersfield</td>\n",
              "      <td>Bakersfield, CA</td>\n",
              "      <td>2016-04-09</td>\n",
              "    </tr>\n",
              "  </tbody>\n",
              "</table>\n",
              "</div>"
            ],
            "text/plain": [
              "   state_code  county_code  ...        cbsa_name  date_of_last_change\n",
              "0           2           20  ...    Anchorage, AK           2018-06-04\n",
              "1           2           20  ...    Anchorage, AK           2016-04-08\n",
              "2           2           20  ...    Anchorage, AK           2016-04-08\n",
              "3           2           20  ...    Anchorage, AK           2016-04-08\n",
              "4           6           29  ...  Bakersfield, CA           2016-04-09\n",
              "\n",
              "[5 rows x 29 columns]"
            ]
          },
          "metadata": {},
          "execution_count": 75
        }
      ]
    },
    {
      "cell_type": "code",
      "metadata": {
        "id": "5n4vlDO4ycQy"
      },
      "source": [
        "df_extract = df[[\"state_code\",\"county_code\", \"date_local\",\"arithmetic_mean\", \"parameter_name\", \"city_name\"]]"
      ],
      "execution_count": null,
      "outputs": []
    },
    {
      "cell_type": "code",
      "metadata": {
        "colab": {
          "base_uri": "https://localhost:8080/",
          "height": 206
        },
        "id": "dxEVe4nczvjT",
        "outputId": "ce610d6f-7830-4958-bc8d-410c30617f24"
      },
      "source": [
        "df_extract.head()"
      ],
      "execution_count": null,
      "outputs": [
        {
          "output_type": "execute_result",
          "data": {
            "text/html": [
              "<div>\n",
              "<style scoped>\n",
              "    .dataframe tbody tr th:only-of-type {\n",
              "        vertical-align: middle;\n",
              "    }\n",
              "\n",
              "    .dataframe tbody tr th {\n",
              "        vertical-align: top;\n",
              "    }\n",
              "\n",
              "    .dataframe thead th {\n",
              "        text-align: right;\n",
              "    }\n",
              "</style>\n",
              "<table border=\"1\" class=\"dataframe\">\n",
              "  <thead>\n",
              "    <tr style=\"text-align: right;\">\n",
              "      <th></th>\n",
              "      <th>state_code</th>\n",
              "      <th>county_code</th>\n",
              "      <th>date_local</th>\n",
              "      <th>arithmetic_mean</th>\n",
              "      <th>parameter_name</th>\n",
              "      <th>city_name</th>\n",
              "    </tr>\n",
              "  </thead>\n",
              "  <tbody>\n",
              "    <tr>\n",
              "      <th>0</th>\n",
              "      <td>2</td>\n",
              "      <td>20</td>\n",
              "      <td>2012-10-12</td>\n",
              "      <td>1.041667</td>\n",
              "      <td>Carbon monoxide</td>\n",
              "      <td>Anchorage</td>\n",
              "    </tr>\n",
              "    <tr>\n",
              "      <th>1</th>\n",
              "      <td>2</td>\n",
              "      <td>20</td>\n",
              "      <td>2012-01-11</td>\n",
              "      <td>0.279167</td>\n",
              "      <td>Carbon monoxide</td>\n",
              "      <td>Anchorage</td>\n",
              "    </tr>\n",
              "    <tr>\n",
              "      <th>2</th>\n",
              "      <td>2</td>\n",
              "      <td>20</td>\n",
              "      <td>2012-03-29</td>\n",
              "      <td>0.445833</td>\n",
              "      <td>Carbon monoxide</td>\n",
              "      <td>Anchorage</td>\n",
              "    </tr>\n",
              "    <tr>\n",
              "      <th>3</th>\n",
              "      <td>2</td>\n",
              "      <td>20</td>\n",
              "      <td>2012-11-01</td>\n",
              "      <td>0.379167</td>\n",
              "      <td>Carbon monoxide</td>\n",
              "      <td>Anchorage</td>\n",
              "    </tr>\n",
              "    <tr>\n",
              "      <th>4</th>\n",
              "      <td>6</td>\n",
              "      <td>29</td>\n",
              "      <td>2012-08-21</td>\n",
              "      <td>0.261905</td>\n",
              "      <td>Carbon monoxide</td>\n",
              "      <td>Bakersfield</td>\n",
              "    </tr>\n",
              "  </tbody>\n",
              "</table>\n",
              "</div>"
            ],
            "text/plain": [
              "   state_code  county_code  ...   parameter_name    city_name\n",
              "0           2           20  ...  Carbon monoxide    Anchorage\n",
              "1           2           20  ...  Carbon monoxide    Anchorage\n",
              "2           2           20  ...  Carbon monoxide    Anchorage\n",
              "3           2           20  ...  Carbon monoxide    Anchorage\n",
              "4           6           29  ...  Carbon monoxide  Bakersfield\n",
              "\n",
              "[5 rows x 6 columns]"
            ]
          },
          "metadata": {},
          "execution_count": 77
        }
      ]
    },
    {
      "cell_type": "code",
      "metadata": {
        "colab": {
          "base_uri": "https://localhost:8080/"
        },
        "id": "cWA5PuWRzzbR",
        "outputId": "160fb515-1241-417b-b224-0487445f0fc7"
      },
      "source": [
        "df_extract[\"year\"] = pd.DatetimeIndex(df_extract['date_local']).year  "
      ],
      "execution_count": null,
      "outputs": [
        {
          "output_type": "stream",
          "name": "stderr",
          "text": [
            "/usr/local/lib/python3.7/dist-packages/ipykernel_launcher.py:1: SettingWithCopyWarning: \n",
            "A value is trying to be set on a copy of a slice from a DataFrame.\n",
            "Try using .loc[row_indexer,col_indexer] = value instead\n",
            "\n",
            "See the caveats in the documentation: https://pandas.pydata.org/pandas-docs/stable/user_guide/indexing.html#returning-a-view-versus-a-copy\n",
            "  \"\"\"Entry point for launching an IPython kernel.\n"
          ]
        }
      ]
    },
    {
      "cell_type": "code",
      "metadata": {
        "colab": {
          "base_uri": "https://localhost:8080/"
        },
        "id": "BKegMCz-0asy",
        "outputId": "e4c6e356-8968-466d-c0c6-3a3b10f64214"
      },
      "source": [
        "df_extract[\"month\"] = pd.DatetimeIndex(df_extract['date_local']).month\n",
        "#df_extract[\"day\"] = pd.DatetimeIndex(df_extract['date_local']).day   "
      ],
      "execution_count": null,
      "outputs": [
        {
          "output_type": "stream",
          "name": "stderr",
          "text": [
            "/usr/local/lib/python3.7/dist-packages/ipykernel_launcher.py:1: SettingWithCopyWarning: \n",
            "A value is trying to be set on a copy of a slice from a DataFrame.\n",
            "Try using .loc[row_indexer,col_indexer] = value instead\n",
            "\n",
            "See the caveats in the documentation: https://pandas.pydata.org/pandas-docs/stable/user_guide/indexing.html#returning-a-view-versus-a-copy\n",
            "  \"\"\"Entry point for launching an IPython kernel.\n"
          ]
        }
      ]
    },
    {
      "cell_type": "code",
      "metadata": {
        "colab": {
          "base_uri": "https://localhost:8080/"
        },
        "id": "bQjA6xNa0hpy",
        "outputId": "8c3de2b9-489f-451d-c028-3e9e97182c70"
      },
      "source": [
        "df_extract.drop([\"date_local\"], axis=1, inplace=True)"
      ],
      "execution_count": null,
      "outputs": [
        {
          "output_type": "stream",
          "name": "stderr",
          "text": [
            "/usr/local/lib/python3.7/dist-packages/pandas/core/frame.py:4174: SettingWithCopyWarning: \n",
            "A value is trying to be set on a copy of a slice from a DataFrame\n",
            "\n",
            "See the caveats in the documentation: https://pandas.pydata.org/pandas-docs/stable/user_guide/indexing.html#returning-a-view-versus-a-copy\n",
            "  errors=errors,\n"
          ]
        }
      ]
    },
    {
      "cell_type": "code",
      "metadata": {
        "colab": {
          "base_uri": "https://localhost:8080/"
        },
        "id": "N0mxKl-F05uf",
        "outputId": "a1c1a5ac-dafe-40c6-820c-551db3bf6908"
      },
      "source": [
        "df_extract[\"state_code\"] = df_extract[\"state_code\"].astype(int)\n",
        "df_extract[\"county_code\"] = df_extract[\"county_code\"].astype(int)\n",
        "# df_extract[\"site_num\"] = df_extract[\"site_num\"].astype(int)\n",
        "\n",
        "# encoder = LabelEncoder()\n",
        "# df_extract[\"state_name\"] = scaler.fit_transform(df_extract[\"state_name\"])\n",
        "# df_extract[\"\"]"
      ],
      "execution_count": null,
      "outputs": [
        {
          "output_type": "stream",
          "name": "stderr",
          "text": [
            "/usr/local/lib/python3.7/dist-packages/ipykernel_launcher.py:1: SettingWithCopyWarning: \n",
            "A value is trying to be set on a copy of a slice from a DataFrame.\n",
            "Try using .loc[row_indexer,col_indexer] = value instead\n",
            "\n",
            "See the caveats in the documentation: https://pandas.pydata.org/pandas-docs/stable/user_guide/indexing.html#returning-a-view-versus-a-copy\n",
            "  \"\"\"Entry point for launching an IPython kernel.\n",
            "/usr/local/lib/python3.7/dist-packages/ipykernel_launcher.py:2: SettingWithCopyWarning: \n",
            "A value is trying to be set on a copy of a slice from a DataFrame.\n",
            "Try using .loc[row_indexer,col_indexer] = value instead\n",
            "\n",
            "See the caveats in the documentation: https://pandas.pydata.org/pandas-docs/stable/user_guide/indexing.html#returning-a-view-versus-a-copy\n",
            "  \n"
          ]
        }
      ]
    },
    {
      "cell_type": "code",
      "metadata": {
        "colab": {
          "base_uri": "https://localhost:8080/",
          "height": 206
        },
        "id": "qbnPaKZk1LQR",
        "outputId": "105216ba-f225-4456-cf56-edb932841edb"
      },
      "source": [
        "df_extract.head()"
      ],
      "execution_count": null,
      "outputs": [
        {
          "output_type": "execute_result",
          "data": {
            "text/html": [
              "<div>\n",
              "<style scoped>\n",
              "    .dataframe tbody tr th:only-of-type {\n",
              "        vertical-align: middle;\n",
              "    }\n",
              "\n",
              "    .dataframe tbody tr th {\n",
              "        vertical-align: top;\n",
              "    }\n",
              "\n",
              "    .dataframe thead th {\n",
              "        text-align: right;\n",
              "    }\n",
              "</style>\n",
              "<table border=\"1\" class=\"dataframe\">\n",
              "  <thead>\n",
              "    <tr style=\"text-align: right;\">\n",
              "      <th></th>\n",
              "      <th>state_code</th>\n",
              "      <th>county_code</th>\n",
              "      <th>arithmetic_mean</th>\n",
              "      <th>parameter_name</th>\n",
              "      <th>city_name</th>\n",
              "      <th>year</th>\n",
              "      <th>month</th>\n",
              "    </tr>\n",
              "  </thead>\n",
              "  <tbody>\n",
              "    <tr>\n",
              "      <th>0</th>\n",
              "      <td>2</td>\n",
              "      <td>20</td>\n",
              "      <td>1.041667</td>\n",
              "      <td>Carbon monoxide</td>\n",
              "      <td>Anchorage</td>\n",
              "      <td>2012</td>\n",
              "      <td>10</td>\n",
              "    </tr>\n",
              "    <tr>\n",
              "      <th>1</th>\n",
              "      <td>2</td>\n",
              "      <td>20</td>\n",
              "      <td>0.279167</td>\n",
              "      <td>Carbon monoxide</td>\n",
              "      <td>Anchorage</td>\n",
              "      <td>2012</td>\n",
              "      <td>1</td>\n",
              "    </tr>\n",
              "    <tr>\n",
              "      <th>2</th>\n",
              "      <td>2</td>\n",
              "      <td>20</td>\n",
              "      <td>0.445833</td>\n",
              "      <td>Carbon monoxide</td>\n",
              "      <td>Anchorage</td>\n",
              "      <td>2012</td>\n",
              "      <td>3</td>\n",
              "    </tr>\n",
              "    <tr>\n",
              "      <th>3</th>\n",
              "      <td>2</td>\n",
              "      <td>20</td>\n",
              "      <td>0.379167</td>\n",
              "      <td>Carbon monoxide</td>\n",
              "      <td>Anchorage</td>\n",
              "      <td>2012</td>\n",
              "      <td>11</td>\n",
              "    </tr>\n",
              "    <tr>\n",
              "      <th>4</th>\n",
              "      <td>6</td>\n",
              "      <td>29</td>\n",
              "      <td>0.261905</td>\n",
              "      <td>Carbon monoxide</td>\n",
              "      <td>Bakersfield</td>\n",
              "      <td>2012</td>\n",
              "      <td>8</td>\n",
              "    </tr>\n",
              "  </tbody>\n",
              "</table>\n",
              "</div>"
            ],
            "text/plain": [
              "   state_code  county_code  arithmetic_mean  ...    city_name  year  month\n",
              "0           2           20         1.041667  ...    Anchorage  2012     10\n",
              "1           2           20         0.279167  ...    Anchorage  2012      1\n",
              "2           2           20         0.445833  ...    Anchorage  2012      3\n",
              "3           2           20         0.379167  ...    Anchorage  2012     11\n",
              "4           6           29         0.261905  ...  Bakersfield  2012      8\n",
              "\n",
              "[5 rows x 7 columns]"
            ]
          },
          "metadata": {},
          "execution_count": 84
        }
      ]
    },
    {
      "cell_type": "code",
      "metadata": {
        "id": "fWbg1M7mDO5L"
      },
      "source": [
        "df_model_charts = df_extract[[\"state_code\", \"county_code\", \"arithmetic_mean\", \"year\", \"month\"]]"
      ],
      "execution_count": null,
      "outputs": []
    },
    {
      "cell_type": "code",
      "metadata": {
        "id": "KhbBl2cRDZ6D"
      },
      "source": [
        "df_model_map = df_extract[[\"state_code\", \"county_code\", \"arithmetic_mean\", \"year\"]]"
      ],
      "execution_count": null,
      "outputs": []
    },
    {
      "cell_type": "code",
      "metadata": {
        "colab": {
          "base_uri": "https://localhost:8080/",
          "height": 206
        },
        "id": "zhD7pYrWEk5a",
        "outputId": "f927eaff-6a65-4ff1-a7ef-51a910527762"
      },
      "source": [
        "df_model_pollutant = df_extract[[\"state_code\", \"county_code\", \"year\", \"city_name\", \"arithmetic_mean\"]]\n",
        "df_model_pollutant.head()"
      ],
      "execution_count": null,
      "outputs": [
        {
          "output_type": "execute_result",
          "data": {
            "text/html": [
              "<div>\n",
              "<style scoped>\n",
              "    .dataframe tbody tr th:only-of-type {\n",
              "        vertical-align: middle;\n",
              "    }\n",
              "\n",
              "    .dataframe tbody tr th {\n",
              "        vertical-align: top;\n",
              "    }\n",
              "\n",
              "    .dataframe thead th {\n",
              "        text-align: right;\n",
              "    }\n",
              "</style>\n",
              "<table border=\"1\" class=\"dataframe\">\n",
              "  <thead>\n",
              "    <tr style=\"text-align: right;\">\n",
              "      <th></th>\n",
              "      <th>state_code</th>\n",
              "      <th>county_code</th>\n",
              "      <th>year</th>\n",
              "      <th>city_name</th>\n",
              "      <th>arithmetic_mean</th>\n",
              "    </tr>\n",
              "  </thead>\n",
              "  <tbody>\n",
              "    <tr>\n",
              "      <th>0</th>\n",
              "      <td>2</td>\n",
              "      <td>20</td>\n",
              "      <td>2012</td>\n",
              "      <td>Anchorage</td>\n",
              "      <td>1.041667</td>\n",
              "    </tr>\n",
              "    <tr>\n",
              "      <th>1</th>\n",
              "      <td>2</td>\n",
              "      <td>20</td>\n",
              "      <td>2012</td>\n",
              "      <td>Anchorage</td>\n",
              "      <td>0.279167</td>\n",
              "    </tr>\n",
              "    <tr>\n",
              "      <th>2</th>\n",
              "      <td>2</td>\n",
              "      <td>20</td>\n",
              "      <td>2012</td>\n",
              "      <td>Anchorage</td>\n",
              "      <td>0.445833</td>\n",
              "    </tr>\n",
              "    <tr>\n",
              "      <th>3</th>\n",
              "      <td>2</td>\n",
              "      <td>20</td>\n",
              "      <td>2012</td>\n",
              "      <td>Anchorage</td>\n",
              "      <td>0.379167</td>\n",
              "    </tr>\n",
              "    <tr>\n",
              "      <th>4</th>\n",
              "      <td>6</td>\n",
              "      <td>29</td>\n",
              "      <td>2012</td>\n",
              "      <td>Bakersfield</td>\n",
              "      <td>0.261905</td>\n",
              "    </tr>\n",
              "  </tbody>\n",
              "</table>\n",
              "</div>"
            ],
            "text/plain": [
              "   state_code  county_code  year    city_name  arithmetic_mean\n",
              "0           2           20  2012    Anchorage         1.041667\n",
              "1           2           20  2012    Anchorage         0.279167\n",
              "2           2           20  2012    Anchorage         0.445833\n",
              "3           2           20  2012    Anchorage         0.379167\n",
              "4           6           29  2012  Bakersfield         0.261905"
            ]
          },
          "metadata": {},
          "execution_count": 88
        }
      ]
    },
    {
      "cell_type": "code",
      "metadata": {
        "colab": {
          "base_uri": "https://localhost:8080/"
        },
        "id": "Xz-oIHwFOjsX",
        "outputId": "aa4ff6f3-68cf-4c08-fb24-e884e9d17c97"
      },
      "source": [
        "df_model_pollutant = df_model_pollutant[df_model_pollutant[\"city_name\"]!=\"Not in a city\"].reset_index(drop=True)\n",
        "df_model_pollutant.info()"
      ],
      "execution_count": null,
      "outputs": [
        {
          "output_type": "stream",
          "name": "stdout",
          "text": [
            "<class 'pandas.core.frame.DataFrame'>\n",
            "RangeIndex: 2168402 entries, 0 to 2168401\n",
            "Data columns (total 5 columns):\n",
            " #   Column           Dtype  \n",
            "---  ------           -----  \n",
            " 0   state_code       int64  \n",
            " 1   county_code      int64  \n",
            " 2   year             int64  \n",
            " 3   city_name        object \n",
            " 4   arithmetic_mean  float64\n",
            "dtypes: float64(1), int64(3), object(1)\n",
            "memory usage: 82.7+ MB\n"
          ]
        }
      ]
    },
    {
      "cell_type": "code",
      "metadata": {
        "colab": {
          "base_uri": "https://localhost:8080/"
        },
        "id": "lNeTHW7YaQBk",
        "outputId": "0405d3eb-0e2b-4512-a4bf-87e397f998e3"
      },
      "source": [
        "df_model_smap = df_extract[[\"state_code\", \"year\", \"arithmetic_mean\"]]\n",
        "df_model_smap.info()"
      ],
      "execution_count": null,
      "outputs": [
        {
          "output_type": "stream",
          "name": "stdout",
          "text": [
            "<class 'pandas.core.frame.DataFrame'>\n",
            "RangeIndex: 2356603 entries, 0 to 2356602\n",
            "Data columns (total 3 columns):\n",
            " #   Column           Dtype  \n",
            "---  ------           -----  \n",
            " 0   state_code       int64  \n",
            " 1   year             int64  \n",
            " 2   arithmetic_mean  float64\n",
            "dtypes: float64(1), int64(2)\n",
            "memory usage: 53.9 MB\n"
          ]
        }
      ]
    },
    {
      "cell_type": "markdown",
      "metadata": {
        "id": "Kyho1GZEE_jo"
      },
      "source": [
        "# Model Chart:"
      ]
    },
    {
      "cell_type": "code",
      "metadata": {
        "id": "mf34qBF91Sy3"
      },
      "source": [
        "df_g = df_model_charts.groupby([\"state_code\", \"county_code\",\"year\",\"month\"])[\"arithmetic_mean\"].mean().reset_index()"
      ],
      "execution_count": null,
      "outputs": []
    },
    {
      "cell_type": "code",
      "metadata": {
        "colab": {
          "base_uri": "https://localhost:8080/",
          "height": 206
        },
        "id": "rilah-sj1q0x",
        "outputId": "b1daf6bb-c1be-4ef1-a898-ea4c060d4ce4"
      },
      "source": [
        "df_g.head()"
      ],
      "execution_count": null,
      "outputs": [
        {
          "output_type": "execute_result",
          "data": {
            "text/html": [
              "<div>\n",
              "<style scoped>\n",
              "    .dataframe tbody tr th:only-of-type {\n",
              "        vertical-align: middle;\n",
              "    }\n",
              "\n",
              "    .dataframe tbody tr th {\n",
              "        vertical-align: top;\n",
              "    }\n",
              "\n",
              "    .dataframe thead th {\n",
              "        text-align: right;\n",
              "    }\n",
              "</style>\n",
              "<table border=\"1\" class=\"dataframe\">\n",
              "  <thead>\n",
              "    <tr style=\"text-align: right;\">\n",
              "      <th></th>\n",
              "      <th>state_code</th>\n",
              "      <th>county_code</th>\n",
              "      <th>year</th>\n",
              "      <th>month</th>\n",
              "      <th>arithmetic_mean</th>\n",
              "    </tr>\n",
              "  </thead>\n",
              "  <tbody>\n",
              "    <tr>\n",
              "      <th>0</th>\n",
              "      <td>1</td>\n",
              "      <td>73</td>\n",
              "      <td>2009</td>\n",
              "      <td>1</td>\n",
              "      <td>0.798803</td>\n",
              "    </tr>\n",
              "    <tr>\n",
              "      <th>1</th>\n",
              "      <td>1</td>\n",
              "      <td>73</td>\n",
              "      <td>2009</td>\n",
              "      <td>2</td>\n",
              "      <td>0.621027</td>\n",
              "    </tr>\n",
              "    <tr>\n",
              "      <th>2</th>\n",
              "      <td>1</td>\n",
              "      <td>73</td>\n",
              "      <td>2009</td>\n",
              "      <td>3</td>\n",
              "      <td>0.344531</td>\n",
              "    </tr>\n",
              "    <tr>\n",
              "      <th>3</th>\n",
              "      <td>1</td>\n",
              "      <td>73</td>\n",
              "      <td>2009</td>\n",
              "      <td>4</td>\n",
              "      <td>0.285466</td>\n",
              "    </tr>\n",
              "    <tr>\n",
              "      <th>4</th>\n",
              "      <td>1</td>\n",
              "      <td>73</td>\n",
              "      <td>2009</td>\n",
              "      <td>5</td>\n",
              "      <td>0.329127</td>\n",
              "    </tr>\n",
              "  </tbody>\n",
              "</table>\n",
              "</div>"
            ],
            "text/plain": [
              "   state_code  county_code  year  month  arithmetic_mean\n",
              "0           1           73  2009      1         0.798803\n",
              "1           1           73  2009      2         0.621027\n",
              "2           1           73  2009      3         0.344531\n",
              "3           1           73  2009      4         0.285466\n",
              "4           1           73  2009      5         0.329127"
            ]
          },
          "metadata": {},
          "execution_count": 92
        }
      ]
    },
    {
      "cell_type": "code",
      "metadata": {
        "colab": {
          "base_uri": "https://localhost:8080/"
        },
        "id": "-iDGVdlB1vDA",
        "outputId": "e68c8af1-bdeb-46e4-9cbf-72d3810cd223"
      },
      "source": [
        "df_g.info()"
      ],
      "execution_count": null,
      "outputs": [
        {
          "output_type": "stream",
          "name": "stdout",
          "text": [
            "<class 'pandas.core.frame.DataFrame'>\n",
            "RangeIndex: 23631 entries, 0 to 23630\n",
            "Data columns (total 5 columns):\n",
            " #   Column           Non-Null Count  Dtype  \n",
            "---  ------           --------------  -----  \n",
            " 0   state_code       23631 non-null  int64  \n",
            " 1   county_code      23631 non-null  int64  \n",
            " 2   year             23631 non-null  int64  \n",
            " 3   month            23631 non-null  int64  \n",
            " 4   arithmetic_mean  23631 non-null  float64\n",
            "dtypes: float64(1), int64(4)\n",
            "memory usage: 923.2 KB\n"
          ]
        }
      ]
    },
    {
      "cell_type": "code",
      "metadata": {
        "id": "flCvSSN42htT"
      },
      "source": [
        "X = df_g.drop([\"arithmetic_mean\"], axis=1)\n",
        "y = df_g[[\"arithmetic_mean\"]]"
      ],
      "execution_count": null,
      "outputs": []
    },
    {
      "cell_type": "code",
      "metadata": {
        "id": "nkS5oVm02w85"
      },
      "source": [
        "train_X = X[:23000]\n",
        "test_X = X[23000:]\n",
        "train_y = y[:23000]\n",
        "test_y = y[23000:]"
      ],
      "execution_count": null,
      "outputs": []
    },
    {
      "cell_type": "code",
      "metadata": {
        "id": "ud70f0whUuHG"
      },
      "source": [
        "ddict = {'state_code':[],\n",
        "    'county_code':[],\n",
        "    'year':[],\n",
        "    'month' : []\n",
        "}\n",
        "ddf = pd.DataFrame(ddict)\n",
        "for i in range(2022, 2027):\n",
        "  for j in (list(X[\"state_code\"].unique())):\n",
        "    for k in (list(X[X[\"state_code\"]==j][\"county_code\"].unique())):\n",
        "      for l in range(1,13):\n",
        "        ddf.loc[len(ddf.index)] = [j, k, i, l]"
      ],
      "execution_count": null,
      "outputs": []
    },
    {
      "cell_type": "code",
      "metadata": {
        "id": "_gayJI_i3gTz"
      },
      "source": [
        "scaler = MinMaxScaler()\n",
        "train_scaled = scaler.fit_transform(train_X)\n",
        "test_scaled = scaler.transform(test_X)\n",
        "evalchart = scaler.transform(ddf)"
      ],
      "execution_count": null,
      "outputs": []
    },
    {
      "cell_type": "code",
      "metadata": {
        "colab": {
          "base_uri": "https://localhost:8080/"
        },
        "id": "v5_0EYlZ4ALp",
        "outputId": "cd6bdb8d-8c27-45da-868e-75d293ad8f64"
      },
      "source": [
        "xg = xgb.XGBRegressor()\n",
        "xg.fit(train_scaled, train_y)\n",
        "pred = xg.predict(test_scaled)"
      ],
      "execution_count": null,
      "outputs": [
        {
          "output_type": "stream",
          "name": "stdout",
          "text": [
            "[14:19:10] WARNING: /workspace/src/objective/regression_obj.cu:152: reg:linear is now deprecated in favor of reg:squarederror.\n"
          ]
        }
      ]
    },
    {
      "cell_type": "code",
      "metadata": {
        "colab": {
          "base_uri": "https://localhost:8080/"
        },
        "id": "GK3mACvM4SUh",
        "outputId": "a3e5834b-27d3-44c3-fb60-9f92289f1714"
      },
      "source": [
        "print(\"MSE: \", mean_squared_error(pred, test_y))"
      ],
      "execution_count": null,
      "outputs": [
        {
          "output_type": "stream",
          "name": "stdout",
          "text": [
            "MSE:  0.4372423573777129\n"
          ]
        }
      ]
    },
    {
      "cell_type": "code",
      "metadata": {
        "colab": {
          "base_uri": "https://localhost:8080/"
        },
        "id": "-5t625X2unmJ",
        "outputId": "3fdbc752-6574-4377-a612-66491ca68541"
      },
      "source": [
        "gbr = RandomForestRegressor()\n",
        "gbr.fit(train_scaled, train_y)\n",
        "pred1 = gbr.predict(test_scaled)\n",
        "print(\"MSE: \", mean_squared_error(pred1, test_y))"
      ],
      "execution_count": null,
      "outputs": [
        {
          "output_type": "stream",
          "name": "stderr",
          "text": [
            "/usr/local/lib/python3.7/dist-packages/sklearn/ensemble/_gb.py:494: DataConversionWarning: A column-vector y was passed when a 1d array was expected. Please change the shape of y to (n_samples, ), for example using ravel().\n",
            "  y = column_or_1d(y, warn=True)\n"
          ]
        },
        {
          "output_type": "stream",
          "name": "stdout",
          "text": [
            "MSE:  0.44557624376177185\n"
          ]
        }
      ]
    },
    {
      "cell_type": "code",
      "metadata": {
        "colab": {
          "base_uri": "https://localhost:8080/",
          "height": 206
        },
        "id": "mhsudeEqXF7c",
        "outputId": "26f15649-8313-4d74-ff95-db51a605d68f"
      },
      "source": [
        "import numpy as np\n",
        "save_charts = gbr.predict(evalchart)\n",
        "ddf[\"carbonscore\"] = save_charts\n",
        "ddf.head()"
      ],
      "execution_count": null,
      "outputs": [
        {
          "output_type": "execute_result",
          "data": {
            "text/html": [
              "<div>\n",
              "<style scoped>\n",
              "    .dataframe tbody tr th:only-of-type {\n",
              "        vertical-align: middle;\n",
              "    }\n",
              "\n",
              "    .dataframe tbody tr th {\n",
              "        vertical-align: top;\n",
              "    }\n",
              "\n",
              "    .dataframe thead th {\n",
              "        text-align: right;\n",
              "    }\n",
              "</style>\n",
              "<table border=\"1\" class=\"dataframe\">\n",
              "  <thead>\n",
              "    <tr style=\"text-align: right;\">\n",
              "      <th></th>\n",
              "      <th>state_code</th>\n",
              "      <th>county_code</th>\n",
              "      <th>year</th>\n",
              "      <th>month</th>\n",
              "      <th>carbonscore</th>\n",
              "    </tr>\n",
              "  </thead>\n",
              "  <tbody>\n",
              "    <tr>\n",
              "      <th>0</th>\n",
              "      <td>1.0</td>\n",
              "      <td>73.0</td>\n",
              "      <td>2022.0</td>\n",
              "      <td>1.0</td>\n",
              "      <td>0.405842</td>\n",
              "    </tr>\n",
              "    <tr>\n",
              "      <th>1</th>\n",
              "      <td>1.0</td>\n",
              "      <td>73.0</td>\n",
              "      <td>2022.0</td>\n",
              "      <td>2.0</td>\n",
              "      <td>0.357397</td>\n",
              "    </tr>\n",
              "    <tr>\n",
              "      <th>2</th>\n",
              "      <td>1.0</td>\n",
              "      <td>73.0</td>\n",
              "      <td>2022.0</td>\n",
              "      <td>3.0</td>\n",
              "      <td>0.265187</td>\n",
              "    </tr>\n",
              "    <tr>\n",
              "      <th>3</th>\n",
              "      <td>1.0</td>\n",
              "      <td>73.0</td>\n",
              "      <td>2022.0</td>\n",
              "      <td>4.0</td>\n",
              "      <td>0.243504</td>\n",
              "    </tr>\n",
              "    <tr>\n",
              "      <th>4</th>\n",
              "      <td>1.0</td>\n",
              "      <td>73.0</td>\n",
              "      <td>2022.0</td>\n",
              "      <td>5.0</td>\n",
              "      <td>0.243405</td>\n",
              "    </tr>\n",
              "  </tbody>\n",
              "</table>\n",
              "</div>"
            ],
            "text/plain": [
              "   state_code  county_code    year  month  carbonscore\n",
              "0         1.0         73.0  2022.0    1.0     0.405842\n",
              "1         1.0         73.0  2022.0    2.0     0.357397\n",
              "2         1.0         73.0  2022.0    3.0     0.265187\n",
              "3         1.0         73.0  2022.0    4.0     0.243504\n",
              "4         1.0         73.0  2022.0    5.0     0.243405"
            ]
          },
          "metadata": {},
          "execution_count": 125
        }
      ]
    },
    {
      "cell_type": "code",
      "metadata": {
        "id": "plJGwULeZwI_"
      },
      "source": [
        "ddf[\"state_code\"] = ddf[\"state_code\"].astype(int)\n",
        "ddf[\"county_code\"] = ddf[\"county_code\"].astype(int)\n",
        "ddf[\"year\"] = ddf[\"year\"].astype(int)\n",
        "ddf[\"month\"] = ddf[\"month\"].astype(int)"
      ],
      "execution_count": null,
      "outputs": []
    },
    {
      "cell_type": "code",
      "metadata": {
        "colab": {
          "base_uri": "https://localhost:8080/",
          "height": 206
        },
        "id": "tbUvG9dDaG50",
        "outputId": "420b77f0-f092-4efb-c476-3c6124782a31"
      },
      "source": [
        "ddf.head()"
      ],
      "execution_count": null,
      "outputs": [
        {
          "output_type": "execute_result",
          "data": {
            "text/html": [
              "<div>\n",
              "<style scoped>\n",
              "    .dataframe tbody tr th:only-of-type {\n",
              "        vertical-align: middle;\n",
              "    }\n",
              "\n",
              "    .dataframe tbody tr th {\n",
              "        vertical-align: top;\n",
              "    }\n",
              "\n",
              "    .dataframe thead th {\n",
              "        text-align: right;\n",
              "    }\n",
              "</style>\n",
              "<table border=\"1\" class=\"dataframe\">\n",
              "  <thead>\n",
              "    <tr style=\"text-align: right;\">\n",
              "      <th></th>\n",
              "      <th>state_code</th>\n",
              "      <th>county_code</th>\n",
              "      <th>year</th>\n",
              "      <th>month</th>\n",
              "      <th>carbonscore</th>\n",
              "    </tr>\n",
              "  </thead>\n",
              "  <tbody>\n",
              "    <tr>\n",
              "      <th>0</th>\n",
              "      <td>1</td>\n",
              "      <td>73</td>\n",
              "      <td>2022</td>\n",
              "      <td>1</td>\n",
              "      <td>0.405842</td>\n",
              "    </tr>\n",
              "    <tr>\n",
              "      <th>1</th>\n",
              "      <td>1</td>\n",
              "      <td>73</td>\n",
              "      <td>2022</td>\n",
              "      <td>2</td>\n",
              "      <td>0.357397</td>\n",
              "    </tr>\n",
              "    <tr>\n",
              "      <th>2</th>\n",
              "      <td>1</td>\n",
              "      <td>73</td>\n",
              "      <td>2022</td>\n",
              "      <td>3</td>\n",
              "      <td>0.265187</td>\n",
              "    </tr>\n",
              "    <tr>\n",
              "      <th>3</th>\n",
              "      <td>1</td>\n",
              "      <td>73</td>\n",
              "      <td>2022</td>\n",
              "      <td>4</td>\n",
              "      <td>0.243504</td>\n",
              "    </tr>\n",
              "    <tr>\n",
              "      <th>4</th>\n",
              "      <td>1</td>\n",
              "      <td>73</td>\n",
              "      <td>2022</td>\n",
              "      <td>5</td>\n",
              "      <td>0.243405</td>\n",
              "    </tr>\n",
              "  </tbody>\n",
              "</table>\n",
              "</div>"
            ],
            "text/plain": [
              "   state_code  county_code  year  month  carbonscore\n",
              "0           1           73  2022      1     0.405842\n",
              "1           1           73  2022      2     0.357397\n",
              "2           1           73  2022      3     0.265187\n",
              "3           1           73  2022      4     0.243504\n",
              "4           1           73  2022      5     0.243405"
            ]
          },
          "metadata": {},
          "execution_count": 148
        }
      ]
    },
    {
      "cell_type": "code",
      "metadata": {
        "id": "wGsyx1kwX9c8"
      },
      "source": [
        "ddf.to_csv(\"/content/drive/MyDrive/272/charts.csv\", index=False)"
      ],
      "execution_count": null,
      "outputs": []
    },
    {
      "cell_type": "code",
      "metadata": {
        "id": "IXhRIbVOwv1k"
      },
      "source": [
        "import pickle\n",
        "filename = '/content/drive/MyDrive/272/charts.pkl'\n",
        "pickle.dump(gbr, open(filename, 'wb'))"
      ],
      "execution_count": null,
      "outputs": []
    },
    {
      "cell_type": "markdown",
      "metadata": {
        "id": "NSbnYulMGmaq"
      },
      "source": [
        "# Model 2"
      ]
    },
    {
      "cell_type": "code",
      "metadata": {
        "id": "v2YNGgcxGnqt"
      },
      "source": [
        "df_g_map = df_model_map.groupby([\"state_code\", \"county_code\",\"year\"])[\"arithmetic_mean\"].mean().reset_index()"
      ],
      "execution_count": null,
      "outputs": []
    },
    {
      "cell_type": "code",
      "metadata": {
        "colab": {
          "base_uri": "https://localhost:8080/"
        },
        "id": "4WOCvCXbG16f",
        "outputId": "86447a6d-be50-4eda-c9bb-63a4e12674ce"
      },
      "source": [
        "df_g_map.info()"
      ],
      "execution_count": null,
      "outputs": [
        {
          "output_type": "stream",
          "name": "stdout",
          "text": [
            "<class 'pandas.core.frame.DataFrame'>\n",
            "RangeIndex: 2050 entries, 0 to 2049\n",
            "Data columns (total 4 columns):\n",
            " #   Column           Non-Null Count  Dtype  \n",
            "---  ------           --------------  -----  \n",
            " 0   state_code       2050 non-null   int64  \n",
            " 1   county_code      2050 non-null   int64  \n",
            " 2   year             2050 non-null   int64  \n",
            " 3   arithmetic_mean  2050 non-null   float64\n",
            "dtypes: float64(1), int64(3)\n",
            "memory usage: 64.2 KB\n"
          ]
        }
      ]
    },
    {
      "cell_type": "code",
      "metadata": {
        "id": "YoDPFGabHVZ9"
      },
      "source": [
        "X_map = df_g_map.drop([\"arithmetic_mean\"], axis=1)\n",
        "y_map = df_g_map[[\"arithmetic_mean\"]]"
      ],
      "execution_count": null,
      "outputs": []
    },
    {
      "cell_type": "code",
      "metadata": {
        "id": "5DYAJtLpHII9"
      },
      "source": [
        "train_X_map = X_map[:2000]\n",
        "test_X_map = X_map[2000:]\n",
        "train_y_map = y_map[:2000]\n",
        "test_y_map = y_map[2000:]"
      ],
      "execution_count": null,
      "outputs": []
    },
    {
      "cell_type": "code",
      "metadata": {
        "colab": {
          "base_uri": "https://localhost:8080/",
          "height": 423
        },
        "id": "UwamTiZfkwch",
        "outputId": "47e8a0ab-7152-4304-9cb5-f5482945d406"
      },
      "source": [
        "train_X_map"
      ],
      "execution_count": null,
      "outputs": [
        {
          "output_type": "execute_result",
          "data": {
            "text/html": [
              "<div>\n",
              "<style scoped>\n",
              "    .dataframe tbody tr th:only-of-type {\n",
              "        vertical-align: middle;\n",
              "    }\n",
              "\n",
              "    .dataframe tbody tr th {\n",
              "        vertical-align: top;\n",
              "    }\n",
              "\n",
              "    .dataframe thead th {\n",
              "        text-align: right;\n",
              "    }\n",
              "</style>\n",
              "<table border=\"1\" class=\"dataframe\">\n",
              "  <thead>\n",
              "    <tr style=\"text-align: right;\">\n",
              "      <th></th>\n",
              "      <th>state_code</th>\n",
              "      <th>county_code</th>\n",
              "      <th>year</th>\n",
              "    </tr>\n",
              "  </thead>\n",
              "  <tbody>\n",
              "    <tr>\n",
              "      <th>0</th>\n",
              "      <td>1</td>\n",
              "      <td>73</td>\n",
              "      <td>2009</td>\n",
              "    </tr>\n",
              "    <tr>\n",
              "      <th>1</th>\n",
              "      <td>1</td>\n",
              "      <td>73</td>\n",
              "      <td>2010</td>\n",
              "    </tr>\n",
              "    <tr>\n",
              "      <th>2</th>\n",
              "      <td>1</td>\n",
              "      <td>73</td>\n",
              "      <td>2011</td>\n",
              "    </tr>\n",
              "    <tr>\n",
              "      <th>3</th>\n",
              "      <td>1</td>\n",
              "      <td>73</td>\n",
              "      <td>2012</td>\n",
              "    </tr>\n",
              "    <tr>\n",
              "      <th>4</th>\n",
              "      <td>1</td>\n",
              "      <td>73</td>\n",
              "      <td>2013</td>\n",
              "    </tr>\n",
              "    <tr>\n",
              "      <th>...</th>\n",
              "      <td>...</td>\n",
              "      <td>...</td>\n",
              "      <td>...</td>\n",
              "    </tr>\n",
              "    <tr>\n",
              "      <th>1995</th>\n",
              "      <td>56</td>\n",
              "      <td>39</td>\n",
              "      <td>2014</td>\n",
              "    </tr>\n",
              "    <tr>\n",
              "      <th>1996</th>\n",
              "      <td>56</td>\n",
              "      <td>39</td>\n",
              "      <td>2015</td>\n",
              "    </tr>\n",
              "    <tr>\n",
              "      <th>1997</th>\n",
              "      <td>56</td>\n",
              "      <td>39</td>\n",
              "      <td>2016</td>\n",
              "    </tr>\n",
              "    <tr>\n",
              "      <th>1998</th>\n",
              "      <td>56</td>\n",
              "      <td>39</td>\n",
              "      <td>2017</td>\n",
              "    </tr>\n",
              "    <tr>\n",
              "      <th>1999</th>\n",
              "      <td>56</td>\n",
              "      <td>39</td>\n",
              "      <td>2018</td>\n",
              "    </tr>\n",
              "  </tbody>\n",
              "</table>\n",
              "<p>2000 rows × 3 columns</p>\n",
              "</div>"
            ],
            "text/plain": [
              "      state_code  county_code  year\n",
              "0              1           73  2009\n",
              "1              1           73  2010\n",
              "2              1           73  2011\n",
              "3              1           73  2012\n",
              "4              1           73  2013\n",
              "...          ...          ...   ...\n",
              "1995          56           39  2014\n",
              "1996          56           39  2015\n",
              "1997          56           39  2016\n",
              "1998          56           39  2017\n",
              "1999          56           39  2018\n",
              "\n",
              "[2000 rows x 3 columns]"
            ]
          },
          "metadata": {},
          "execution_count": 137
        }
      ]
    },
    {
      "cell_type": "code",
      "metadata": {
        "id": "yAbW2aifYaU7"
      },
      "source": [
        "ddict1 = {'state_code':[],\n",
        "    'county_code':[],\n",
        "    'year':[]\n",
        "}\n",
        "ddf1 = pd.DataFrame(ddict1)\n",
        "for i in range(2022, 2027):\n",
        "  for j in (list(X[\"state_code\"].unique())):\n",
        "    for k in (list(X[X[\"state_code\"]==j][\"county_code\"].unique())):\n",
        "      ddf1.loc[len(ddf1.index)] = [j, k, i]"
      ],
      "execution_count": null,
      "outputs": []
    },
    {
      "cell_type": "code",
      "metadata": {
        "id": "1eyQWxwvHq5C"
      },
      "source": [
        "scaler = MinMaxScaler()\n",
        "train_scaled_map = scaler.fit_transform(train_X_map)\n",
        "test_scaled_map = scaler.transform(test_X_map)\n",
        "evalmap = scaler.transform(ddf1)"
      ],
      "execution_count": null,
      "outputs": []
    },
    {
      "cell_type": "code",
      "metadata": {
        "colab": {
          "base_uri": "https://localhost:8080/"
        },
        "id": "MKjujQByHbfs",
        "outputId": "aed28c77-5746-462c-c222-59f2d5cc3474"
      },
      "source": [
        "gbr_map = GradientBoostingRegressor()\n",
        "gbr_map.fit(train_scaled_map, train_y_map)\n",
        "pred2 = gbr_map.predict(test_scaled_map)\n",
        "print(\"MSE: \", mean_squared_error(pred2, test_y_map))"
      ],
      "execution_count": null,
      "outputs": [
        {
          "output_type": "stream",
          "name": "stdout",
          "text": [
            "MSE:  0.37776601510927826\n"
          ]
        },
        {
          "output_type": "stream",
          "name": "stderr",
          "text": [
            "/usr/local/lib/python3.7/dist-packages/sklearn/ensemble/_gb.py:494: DataConversionWarning: A column-vector y was passed when a 1d array was expected. Please change the shape of y to (n_samples, ), for example using ravel().\n",
            "  y = column_or_1d(y, warn=True)\n"
          ]
        }
      ]
    },
    {
      "cell_type": "code",
      "metadata": {
        "colab": {
          "base_uri": "https://localhost:8080/"
        },
        "id": "pTcFrsRSIA-9",
        "outputId": "fd4ac7ee-93cf-487c-fb99-1dc1b3265440"
      },
      "source": [
        "rfr = RandomForestRegressor()\n",
        "rfr.fit(train_scaled_map, train_y_map)\n",
        "pred2 = rfr.predict(test_scaled_map)\n",
        "print(\"MSE: \", mean_squared_error(pred2, test_y_map))"
      ],
      "execution_count": null,
      "outputs": [
        {
          "output_type": "stream",
          "name": "stderr",
          "text": [
            "/usr/local/lib/python3.7/dist-packages/ipykernel_launcher.py:2: DataConversionWarning: A column-vector y was passed when a 1d array was expected. Please change the shape of y to (n_samples,), for example using ravel().\n",
            "  \n"
          ]
        },
        {
          "output_type": "stream",
          "name": "stdout",
          "text": [
            "MSE:  0.35347020286129016\n"
          ]
        }
      ]
    },
    {
      "cell_type": "code",
      "metadata": {
        "colab": {
          "base_uri": "https://localhost:8080/",
          "height": 206
        },
        "id": "hzeGUog8ZcVZ",
        "outputId": "742800b2-799a-4cad-ac92-92f2c3e458c0"
      },
      "source": [
        "save_map = gbr_map.predict(evalmap)\n",
        "ddf1[\"carbonscore\"] = save_map\n",
        "ddf1.head()"
      ],
      "execution_count": null,
      "outputs": [
        {
          "output_type": "execute_result",
          "data": {
            "text/html": [
              "<div>\n",
              "<style scoped>\n",
              "    .dataframe tbody tr th:only-of-type {\n",
              "        vertical-align: middle;\n",
              "    }\n",
              "\n",
              "    .dataframe tbody tr th {\n",
              "        vertical-align: top;\n",
              "    }\n",
              "\n",
              "    .dataframe thead th {\n",
              "        text-align: right;\n",
              "    }\n",
              "</style>\n",
              "<table border=\"1\" class=\"dataframe\">\n",
              "  <thead>\n",
              "    <tr style=\"text-align: right;\">\n",
              "      <th></th>\n",
              "      <th>state_code</th>\n",
              "      <th>county_code</th>\n",
              "      <th>year</th>\n",
              "      <th>carbonscore</th>\n",
              "    </tr>\n",
              "  </thead>\n",
              "  <tbody>\n",
              "    <tr>\n",
              "      <th>0</th>\n",
              "      <td>1.0</td>\n",
              "      <td>73.0</td>\n",
              "      <td>2022.0</td>\n",
              "      <td>0.327227</td>\n",
              "    </tr>\n",
              "    <tr>\n",
              "      <th>1</th>\n",
              "      <td>2.0</td>\n",
              "      <td>20.0</td>\n",
              "      <td>2022.0</td>\n",
              "      <td>0.535235</td>\n",
              "    </tr>\n",
              "    <tr>\n",
              "      <th>2</th>\n",
              "      <td>2.0</td>\n",
              "      <td>90.0</td>\n",
              "      <td>2022.0</td>\n",
              "      <td>0.421765</td>\n",
              "    </tr>\n",
              "    <tr>\n",
              "      <th>3</th>\n",
              "      <td>4.0</td>\n",
              "      <td>12.0</td>\n",
              "      <td>2022.0</td>\n",
              "      <td>0.221636</td>\n",
              "    </tr>\n",
              "    <tr>\n",
              "      <th>4</th>\n",
              "      <td>4.0</td>\n",
              "      <td>13.0</td>\n",
              "      <td>2022.0</td>\n",
              "      <td>0.298664</td>\n",
              "    </tr>\n",
              "  </tbody>\n",
              "</table>\n",
              "</div>"
            ],
            "text/plain": [
              "   state_code  county_code    year  carbonscore\n",
              "0         1.0         73.0  2022.0     0.327227\n",
              "1         2.0         20.0  2022.0     0.535235\n",
              "2         2.0         90.0  2022.0     0.421765\n",
              "3         4.0         12.0  2022.0     0.221636\n",
              "4         4.0         13.0  2022.0     0.298664"
            ]
          },
          "metadata": {},
          "execution_count": 146
        }
      ]
    },
    {
      "cell_type": "code",
      "metadata": {
        "colab": {
          "base_uri": "https://localhost:8080/",
          "height": 206
        },
        "id": "715WU8kWaRx5",
        "outputId": "e6a92bec-7c3e-4807-9c4f-77faf9ecc562"
      },
      "source": [
        "ddf1[\"state_code\"] = ddf1[\"state_code\"].astype(int)\n",
        "ddf1[\"county_code\"] = ddf1[\"county_code\"].astype(int)\n",
        "ddf1[\"year\"] = ddf1[\"year\"].astype(int)\n",
        "ddf1.head()"
      ],
      "execution_count": null,
      "outputs": [
        {
          "output_type": "execute_result",
          "data": {
            "text/html": [
              "<div>\n",
              "<style scoped>\n",
              "    .dataframe tbody tr th:only-of-type {\n",
              "        vertical-align: middle;\n",
              "    }\n",
              "\n",
              "    .dataframe tbody tr th {\n",
              "        vertical-align: top;\n",
              "    }\n",
              "\n",
              "    .dataframe thead th {\n",
              "        text-align: right;\n",
              "    }\n",
              "</style>\n",
              "<table border=\"1\" class=\"dataframe\">\n",
              "  <thead>\n",
              "    <tr style=\"text-align: right;\">\n",
              "      <th></th>\n",
              "      <th>state_code</th>\n",
              "      <th>county_code</th>\n",
              "      <th>year</th>\n",
              "      <th>carbonscore</th>\n",
              "    </tr>\n",
              "  </thead>\n",
              "  <tbody>\n",
              "    <tr>\n",
              "      <th>0</th>\n",
              "      <td>1</td>\n",
              "      <td>73</td>\n",
              "      <td>2022</td>\n",
              "      <td>0.327227</td>\n",
              "    </tr>\n",
              "    <tr>\n",
              "      <th>1</th>\n",
              "      <td>2</td>\n",
              "      <td>20</td>\n",
              "      <td>2022</td>\n",
              "      <td>0.535235</td>\n",
              "    </tr>\n",
              "    <tr>\n",
              "      <th>2</th>\n",
              "      <td>2</td>\n",
              "      <td>90</td>\n",
              "      <td>2022</td>\n",
              "      <td>0.421765</td>\n",
              "    </tr>\n",
              "    <tr>\n",
              "      <th>3</th>\n",
              "      <td>4</td>\n",
              "      <td>12</td>\n",
              "      <td>2022</td>\n",
              "      <td>0.221636</td>\n",
              "    </tr>\n",
              "    <tr>\n",
              "      <th>4</th>\n",
              "      <td>4</td>\n",
              "      <td>13</td>\n",
              "      <td>2022</td>\n",
              "      <td>0.298664</td>\n",
              "    </tr>\n",
              "  </tbody>\n",
              "</table>\n",
              "</div>"
            ],
            "text/plain": [
              "   state_code  county_code  year  carbonscore\n",
              "0           1           73  2022     0.327227\n",
              "1           2           20  2022     0.535235\n",
              "2           2           90  2022     0.421765\n",
              "3           4           12  2022     0.221636\n",
              "4           4           13  2022     0.298664"
            ]
          },
          "metadata": {},
          "execution_count": 150
        }
      ]
    },
    {
      "cell_type": "code",
      "metadata": {
        "id": "g3ALWoxmaYSa"
      },
      "source": [
        "ddf1.to_csv(\"/content/drive/MyDrive/272/map.csv\", index=False)"
      ],
      "execution_count": null,
      "outputs": []
    },
    {
      "cell_type": "code",
      "metadata": {
        "id": "vaHbkw1NIQLK"
      },
      "source": [
        "import pickle\n",
        "filename = '/content/drive/MyDrive/272/map.pkl'\n",
        "pickle.dump(gbr_map, open(filename, 'wb'))"
      ],
      "execution_count": null,
      "outputs": []
    },
    {
      "cell_type": "markdown",
      "metadata": {
        "id": "CI9-NoX6H02D"
      },
      "source": [
        "# Model Pollutant"
      ]
    },
    {
      "cell_type": "code",
      "metadata": {
        "colab": {
          "base_uri": "https://localhost:8080/",
          "height": 206
        },
        "id": "Yrz6IeXOH2pq",
        "outputId": "31031e92-a5db-411e-f549-24558a7c4a1f"
      },
      "source": [
        "df_g_pollutant = df_model_pollutant.groupby([\"state_code\", \"county_code\",\"year\",\"city_name\"])[\"arithmetic_mean\"].mean().reset_index()\n",
        "df_g_pollutant.head()"
      ],
      "execution_count": null,
      "outputs": [
        {
          "output_type": "execute_result",
          "data": {
            "text/html": [
              "<div>\n",
              "<style scoped>\n",
              "    .dataframe tbody tr th:only-of-type {\n",
              "        vertical-align: middle;\n",
              "    }\n",
              "\n",
              "    .dataframe tbody tr th {\n",
              "        vertical-align: top;\n",
              "    }\n",
              "\n",
              "    .dataframe thead th {\n",
              "        text-align: right;\n",
              "    }\n",
              "</style>\n",
              "<table border=\"1\" class=\"dataframe\">\n",
              "  <thead>\n",
              "    <tr style=\"text-align: right;\">\n",
              "      <th></th>\n",
              "      <th>state_code</th>\n",
              "      <th>county_code</th>\n",
              "      <th>year</th>\n",
              "      <th>city_name</th>\n",
              "      <th>arithmetic_mean</th>\n",
              "    </tr>\n",
              "  </thead>\n",
              "  <tbody>\n",
              "    <tr>\n",
              "      <th>0</th>\n",
              "      <td>1</td>\n",
              "      <td>73</td>\n",
              "      <td>2009</td>\n",
              "      <td>Birmingham</td>\n",
              "      <td>0.560884</td>\n",
              "    </tr>\n",
              "    <tr>\n",
              "      <th>1</th>\n",
              "      <td>1</td>\n",
              "      <td>73</td>\n",
              "      <td>2009</td>\n",
              "      <td>Fairfield</td>\n",
              "      <td>0.478250</td>\n",
              "    </tr>\n",
              "    <tr>\n",
              "      <th>2</th>\n",
              "      <td>1</td>\n",
              "      <td>73</td>\n",
              "      <td>2010</td>\n",
              "      <td>Birmingham</td>\n",
              "      <td>0.315640</td>\n",
              "    </tr>\n",
              "    <tr>\n",
              "      <th>3</th>\n",
              "      <td>1</td>\n",
              "      <td>73</td>\n",
              "      <td>2010</td>\n",
              "      <td>Fairfield</td>\n",
              "      <td>0.466380</td>\n",
              "    </tr>\n",
              "    <tr>\n",
              "      <th>4</th>\n",
              "      <td>1</td>\n",
              "      <td>73</td>\n",
              "      <td>2011</td>\n",
              "      <td>Birmingham</td>\n",
              "      <td>0.332377</td>\n",
              "    </tr>\n",
              "  </tbody>\n",
              "</table>\n",
              "</div>"
            ],
            "text/plain": [
              "   state_code  county_code  year   city_name  arithmetic_mean\n",
              "0           1           73  2009  Birmingham         0.560884\n",
              "1           1           73  2009   Fairfield         0.478250\n",
              "2           1           73  2010  Birmingham         0.315640\n",
              "3           1           73  2010   Fairfield         0.466380\n",
              "4           1           73  2011  Birmingham         0.332377"
            ]
          },
          "metadata": {},
          "execution_count": 169
        }
      ]
    },
    {
      "cell_type": "code",
      "metadata": {
        "id": "j0ePk899THqp"
      },
      "source": [
        "encoder = LabelEncoder()\n",
        "df_g_pollutant[\"city_num\"] = encoder.fit_transform(df_g_pollutant[\"city_name\"])"
      ],
      "execution_count": null,
      "outputs": []
    },
    {
      "cell_type": "code",
      "metadata": {
        "colab": {
          "base_uri": "https://localhost:8080/"
        },
        "id": "Q5LjxSipVyAI",
        "outputId": "3eebd2dd-a637-4f49-997e-9fb0570cb21d"
      },
      "source": [
        "sd = df_g_pollutant[[\"city_name\",\"city_num\"]]\n",
        "sd.drop_duplicates(keep='first', inplace=True)\n",
        "dict(sd.values)"
      ],
      "execution_count": null,
      "outputs": [
        {
          "output_type": "stream",
          "name": "stderr",
          "text": [
            "/usr/local/lib/python3.7/dist-packages/ipykernel_launcher.py:2: SettingWithCopyWarning: \n",
            "A value is trying to be set on a copy of a slice from a DataFrame\n",
            "\n",
            "See the caveats in the documentation: https://pandas.pydata.org/pandas-docs/stable/user_guide/indexing.html#returning-a-view-versus-a-copy\n",
            "  \n"
          ]
        },
        {
          "output_type": "execute_result",
          "data": {
            "text/plain": [
              "{'Akron': 0,\n",
              " 'Albany': 1,\n",
              " 'Albuquerque': 2,\n",
              " 'Alexandria': 3,\n",
              " 'Allen Park': 4,\n",
              " 'Anaheim': 5,\n",
              " 'Anchorage': 6,\n",
              " 'Annandale': 7,\n",
              " 'Arden-Arcade': 8,\n",
              " 'Arlington': 9,\n",
              " 'Arvin': 10,\n",
              " 'Athens': 11,\n",
              " 'Atlanta': 12,\n",
              " 'Austin': 13,\n",
              " 'Azusa': 14,\n",
              " 'Bakersfield': 15,\n",
              " 'Baltimore': 16,\n",
              " 'Barstow': 17,\n",
              " 'Baton Rouge': 18,\n",
              " 'Bayamon': 19,\n",
              " 'Bellevue': 20,\n",
              " 'Beltsville': 21,\n",
              " 'Berkeley': 22,\n",
              " 'Bethel Island': 23,\n",
              " 'Billings': 24,\n",
              " 'Birmingham': 25,\n",
              " 'Bismarck': 26,\n",
              " 'Blaine': 27,\n",
              " 'Boise (corporate name Boise City)': 28,\n",
              " 'Bondville': 29,\n",
              " 'Boston': 30,\n",
              " 'Bridgeport': 31,\n",
              " 'Bristol': 32,\n",
              " 'Brownsville': 33,\n",
              " 'Buckeye': 34,\n",
              " 'Buffalo': 35,\n",
              " 'Burbank': 36,\n",
              " 'Burlington': 37,\n",
              " 'Caguas': 38,\n",
              " 'Calexico': 39,\n",
              " 'Camden': 40,\n",
              " 'Campo': 41,\n",
              " 'Canton': 42,\n",
              " 'Capitan': 43,\n",
              " 'Cedar Rapids': 44,\n",
              " 'Chandler': 45,\n",
              " 'Charleroi': 46,\n",
              " 'Charleston': 47,\n",
              " 'Charlotte': 48,\n",
              " 'Cheektowaga': 49,\n",
              " 'Cherry Tree': 50,\n",
              " 'Chicago': 51,\n",
              " 'Chico': 52,\n",
              " 'Chicopee': 53,\n",
              " 'Chula Vista': 54,\n",
              " 'Cicero': 55,\n",
              " 'Cincinnati': 56,\n",
              " 'Ciudad-Juarez': 57,\n",
              " 'Clearwater': 58,\n",
              " 'Cleveland': 59,\n",
              " 'Clovis': 60,\n",
              " 'Colorado Springs': 61,\n",
              " 'Columbus': 62,\n",
              " 'Compton': 63,\n",
              " 'Concord': 64,\n",
              " 'Cornwall': 65,\n",
              " 'Costa Mesa': 66,\n",
              " 'Cottonwood West': 67,\n",
              " 'Cupertino': 68,\n",
              " 'Dallas': 69,\n",
              " 'Davenport': 70,\n",
              " 'Davie': 71,\n",
              " 'Dayton': 72,\n",
              " 'Deer Park': 73,\n",
              " 'Delaware City': 74,\n",
              " 'Dentsville (Dents)': 75,\n",
              " 'Denver': 76,\n",
              " 'Des Moines': 77,\n",
              " 'Detroit': 78,\n",
              " 'Duluth': 79,\n",
              " 'Durham': 80,\n",
              " 'East Chicago': 81,\n",
              " 'East Hartford': 82,\n",
              " 'East Highland Park': 83,\n",
              " 'East Providence': 84,\n",
              " 'East Saint Louis': 85,\n",
              " 'El Cajon': 86,\n",
              " 'El Centro': 87,\n",
              " 'El Paso': 88,\n",
              " 'Elizabeth': 89,\n",
              " 'Erie': 90,\n",
              " 'Escondido': 91,\n",
              " 'Essex': 92,\n",
              " 'Eugene': 93,\n",
              " 'Eureka': 94,\n",
              " 'Evansville': 95,\n",
              " 'Fairbanks': 96,\n",
              " 'Fairfield': 97,\n",
              " 'Fontana': 98,\n",
              " 'Fort Collins': 99,\n",
              " 'Fort Lauderdale': 100,\n",
              " 'Fort Lee': 101,\n",
              " 'Fort Wayne': 102,\n",
              " 'Fort Worth': 103,\n",
              " 'Freehold': 104,\n",
              " 'Freemansburg': 105,\n",
              " 'Fremont': 106,\n",
              " 'Fresno': 107,\n",
              " 'Glendale': 108,\n",
              " 'Glendora': 109,\n",
              " 'Goleta': 110,\n",
              " 'Grand Junction': 111,\n",
              " 'Grand Rapids': 112,\n",
              " 'Grantsville': 113,\n",
              " 'Great Falls': 114,\n",
              " 'Greeley': 115,\n",
              " 'Greenville': 116,\n",
              " 'Groveton': 117,\n",
              " 'Guaynabo': 118,\n",
              " 'Hackensack': 119,\n",
              " 'Hampton': 120,\n",
              " 'Harrisville': 121,\n",
              " 'Hartford': 122,\n",
              " 'Hollywood': 123,\n",
              " 'Holtsville': 124,\n",
              " 'Honolulu': 125,\n",
              " 'Horicon': 126,\n",
              " 'Houston': 127,\n",
              " 'Indianapolis': 128,\n",
              " 'Indianapolis (Remainder)': 129,\n",
              " 'Inver Grove Heights (RR name Inver Grove)': 130,\n",
              " 'Jackson': 131,\n",
              " 'Jacksonville': 132,\n",
              " 'Jersey City': 133,\n",
              " 'Johnstown': 134,\n",
              " 'Kalispell': 135,\n",
              " 'Kansas City': 136,\n",
              " 'Keene': 137,\n",
              " 'Kingsport': 138,\n",
              " 'La Habra': 139,\n",
              " 'Lacey': 140,\n",
              " 'Lake Elsinore': 141,\n",
              " 'Lakeville': 142,\n",
              " 'Lancaster': 143,\n",
              " 'Lansing': 144,\n",
              " 'Laredo': 145,\n",
              " 'Las Vegas': 146,\n",
              " 'Lemmon Valley-Golden Valley': 147,\n",
              " 'Lincoln': 148,\n",
              " 'Lindon': 149,\n",
              " 'Livermore': 150,\n",
              " 'Livonia': 151,\n",
              " 'Lompoc': 152,\n",
              " 'Londonderry': 153,\n",
              " 'Long Beach': 154,\n",
              " 'Longmont': 155,\n",
              " 'Los Angeles': 156,\n",
              " 'Louisville': 157,\n",
              " 'Lowell': 158,\n",
              " 'Lynn': 159,\n",
              " 'Madera': 160,\n",
              " 'Manchester': 161,\n",
              " 'Maywood': 162,\n",
              " 'McLean': 163,\n",
              " 'Medford': 164,\n",
              " 'Memphis': 165,\n",
              " 'Mentor': 166,\n",
              " 'Meridian': 167,\n",
              " 'Mesa': 168,\n",
              " 'Mexicali': 169,\n",
              " 'Miami': 170,\n",
              " 'Midvale': 171,\n",
              " 'Milwaukee': 172,\n",
              " 'Minneapolis': 173,\n",
              " 'Mira Loma': 174,\n",
              " 'Mission Viejo': 175,\n",
              " 'Missoula': 176,\n",
              " 'Modesto': 177,\n",
              " 'Morristown': 178,\n",
              " 'Murray': 179,\n",
              " 'Napa': 180,\n",
              " 'Nashville': 181,\n",
              " 'Nashville-Davidson (Remainder)': 182,\n",
              " 'Nederland': 183,\n",
              " 'New Castle': 184,\n",
              " 'New Haven': 185,\n",
              " 'New Orleans': 186,\n",
              " 'New Paris': 187,\n",
              " 'New York': 188,\n",
              " 'Newark': 189,\n",
              " 'Newport News': 190,\n",
              " 'Niagara Falls': 191,\n",
              " 'Norfolk': 192,\n",
              " 'North Las Vegas': 193,\n",
              " 'North Laurel': 194,\n",
              " 'North Little Rock': 195,\n",
              " 'North Valley': 196,\n",
              " 'Northbrook': 197,\n",
              " 'Oakland': 198,\n",
              " 'Ogden': 199,\n",
              " 'Oklahoma City': 200,\n",
              " 'Omaha': 201,\n",
              " 'Ontario': 202,\n",
              " 'Orlando': 203,\n",
              " 'Palm Springs': 204,\n",
              " 'Park Hill': 205,\n",
              " 'Pasadena': 206,\n",
              " 'Peoria': 207,\n",
              " 'Perth Amboy': 208,\n",
              " 'Peterborough (Peterboro)': 209,\n",
              " 'Philadelphia': 210,\n",
              " 'Phoenix': 211,\n",
              " 'Pico Rivera': 212,\n",
              " 'Pittsboro': 213,\n",
              " 'Pittsburgh': 214,\n",
              " 'Pleasanton': 215,\n",
              " 'Pomona': 216,\n",
              " 'Pompano Beach': 217,\n",
              " 'Ponce': 218,\n",
              " 'Portland': 219,\n",
              " 'Presque Isle': 220,\n",
              " 'Providence': 221,\n",
              " 'Provo': 222,\n",
              " 'Raleigh': 223,\n",
              " 'Redwood City': 224,\n",
              " 'Reno': 225,\n",
              " 'Reseda': 226,\n",
              " 'Richmond': 227,\n",
              " 'Riverside': 228,\n",
              " 'Riverton': 229,\n",
              " 'Roanoke': 230,\n",
              " 'Rochester': 231,\n",
              " 'Rockford': 232,\n",
              " 'Rockwell': 233,\n",
              " 'Roosevelt': 234,\n",
              " 'Rosarito': 235,\n",
              " 'Rosemount': 236,\n",
              " 'Rubidoux': 237,\n",
              " 'Rutland': 238,\n",
              " 'Sacramento': 239,\n",
              " 'Saint Marks': 240,\n",
              " 'Saint Petersburg': 241,\n",
              " 'Salinas': 242,\n",
              " 'Salt Lake City': 243,\n",
              " 'San Antonio': 244,\n",
              " 'San Bernardino': 245,\n",
              " 'San Diego': 246,\n",
              " 'San Francisco': 247,\n",
              " 'San Jose': 248,\n",
              " 'San Juan': 249,\n",
              " 'San Pablo': 250,\n",
              " 'San Rafael': 251,\n",
              " 'Santa Barbara': 252,\n",
              " 'Santa Clarita': 253,\n",
              " 'Santa Maria': 254,\n",
              " 'Santa Rosa': 255,\n",
              " 'Schenectady': 256,\n",
              " 'Schiller Park': 257,\n",
              " 'Scottsdale': 258,\n",
              " 'Scranton': 259,\n",
              " 'Seattle': 260,\n",
              " 'Sebastopol': 261,\n",
              " 'Shadyside': 262,\n",
              " 'Sioux Falls': 263,\n",
              " 'South Valley': 264,\n",
              " 'Sparks': 265,\n",
              " 'Spokane': 266,\n",
              " 'Springfield': 267,\n",
              " 'St. Cloud': 268,\n",
              " 'St. Louis': 269,\n",
              " 'St. Paul': 270,\n",
              " 'Stateline': 271,\n",
              " 'Stockton': 272,\n",
              " 'Sunrise Manor': 273,\n",
              " 'Sunset Hills': 274,\n",
              " 'Surprise': 275,\n",
              " 'Sutter': 276,\n",
              " 'Syracuse': 277,\n",
              " 'Tampa': 278,\n",
              " 'Tempe': 279,\n",
              " 'Thomaston': 280,\n",
              " 'Tijuana': 281,\n",
              " 'Tualatin': 282,\n",
              " 'Tucson': 283,\n",
              " 'Tulsa': 284,\n",
              " 'Turlock': 285,\n",
              " 'Underhill (Town of)': 286,\n",
              " 'Upland': 287,\n",
              " 'Vallejo': 288,\n",
              " 'Valrico': 289,\n",
              " 'Vandenberg Air Force Base': 290,\n",
              " 'Victorville': 291,\n",
              " 'Vinton': 292,\n",
              " 'Virginia Beach': 293,\n",
              " 'Waco': 294,\n",
              " 'Warrensville Heights': 295,\n",
              " 'Washington': 296,\n",
              " 'Weirton': 297,\n",
              " 'Welby': 298,\n",
              " 'Wenden': 299,\n",
              " 'West Los Angeles': 300,\n",
              " 'West Yellowstone': 301,\n",
              " 'Westport': 302,\n",
              " 'Wichita': 303,\n",
              " 'Wilkinsburg': 304,\n",
              " 'Wilmington': 305,\n",
              " 'Winslow (Township of)': 306,\n",
              " 'Winston-Salem': 307,\n",
              " 'Winter Park': 308,\n",
              " 'Worcester': 309,\n",
              " 'York': 310}"
            ]
          },
          "metadata": {},
          "execution_count": 171
        }
      ]
    },
    {
      "cell_type": "code",
      "metadata": {
        "id": "j5RRzbjGSNyG"
      },
      "source": [
        "X_pollutant = df_g_pollutant.drop([\"arithmetic_mean\",\"city_name\"], axis=1)\n",
        "y_pollutant = df_g_pollutant[[\"arithmetic_mean\"]]"
      ],
      "execution_count": null,
      "outputs": []
    },
    {
      "cell_type": "code",
      "metadata": {
        "colab": {
          "base_uri": "https://localhost:8080/"
        },
        "id": "MZW-TIvKSaMQ",
        "outputId": "8333fd0b-916d-443b-889d-9f15fb5fd151"
      },
      "source": [
        "X_pollutant.info()"
      ],
      "execution_count": null,
      "outputs": [
        {
          "output_type": "stream",
          "name": "stdout",
          "text": [
            "<class 'pandas.core.frame.DataFrame'>\n",
            "RangeIndex: 2564 entries, 0 to 2563\n",
            "Data columns (total 4 columns):\n",
            " #   Column       Non-Null Count  Dtype\n",
            "---  ------       --------------  -----\n",
            " 0   state_code   2564 non-null   int64\n",
            " 1   county_code  2564 non-null   int64\n",
            " 2   year         2564 non-null   int64\n",
            " 3   city_num     2564 non-null   int64\n",
            "dtypes: int64(4)\n",
            "memory usage: 80.2 KB\n"
          ]
        }
      ]
    },
    {
      "cell_type": "code",
      "metadata": {
        "id": "kL8RaoE2brIQ"
      },
      "source": [
        "ddict2 = {'state_code':[],\n",
        "    'county_code':[],\n",
        "    'year':[],\n",
        "    'city_num' : []\n",
        "}\n",
        "ddf2 = pd.DataFrame(ddict2)\n",
        "for i in range(2022, 2027):\n",
        "  for j in (list(X[\"state_code\"].unique())):\n",
        "    for k in (list(X[X[\"state_code\"]==j][\"county_code\"].unique())):\n",
        "      for l in (list(X_pollutant[(X_pollutant[\"state_code\"]==j)&(X_pollutant[\"county_code\"]==k)][\"city_num\"].unique())):\n",
        "        ddf2.loc[len(ddf2.index)] = [j, k, i, l]"
      ],
      "execution_count": null,
      "outputs": []
    },
    {
      "cell_type": "code",
      "metadata": {
        "id": "KThJxDC2Si6a"
      },
      "source": [
        "train_X_pollutant = X_pollutant[:2000]\n",
        "test_X_pollutant = X_pollutant[2000:]\n",
        "train_y_pollutant = y_pollutant[:2000]\n",
        "test_y_pollutant = y_pollutant[2000:]"
      ],
      "execution_count": null,
      "outputs": []
    },
    {
      "cell_type": "code",
      "metadata": {
        "id": "PW1U_C_PJBo6"
      },
      "source": [
        "scaler = MinMaxScaler()\n",
        "train_scaled_pollutant = scaler.fit_transform(train_X_pollutant)\n",
        "test_scaled_pollutant = scaler.transform(test_X_pollutant)\n",
        "evalpollutant = scaler.transform(ddf2)"
      ],
      "execution_count": null,
      "outputs": []
    },
    {
      "cell_type": "code",
      "metadata": {
        "colab": {
          "base_uri": "https://localhost:8080/"
        },
        "id": "R7XVVxnlWCs-",
        "outputId": "d27d3cc1-17bc-42ff-be55-439f27657e46"
      },
      "source": [
        "gbr_pollutant = XGBRegressor()\n",
        "gbr_pollutant.fit(train_scaled_pollutant, train_y_pollutant)\n",
        "pred3 = gbr_pollutant.predict(test_scaled_pollutant)\n",
        "print(\"MSE: \", mean_squared_error(pred3, test_y_pollutant))"
      ],
      "execution_count": null,
      "outputs": [
        {
          "output_type": "stream",
          "name": "stdout",
          "text": [
            "MSE:  0.044766561244649\n"
          ]
        },
        {
          "output_type": "stream",
          "name": "stderr",
          "text": [
            "/usr/local/lib/python3.7/dist-packages/sklearn/ensemble/_gb.py:494: DataConversionWarning: A column-vector y was passed when a 1d array was expected. Please change the shape of y to (n_samples, ), for example using ravel().\n",
            "  y = column_or_1d(y, warn=True)\n"
          ]
        }
      ]
    },
    {
      "cell_type": "code",
      "metadata": {
        "id": "xGBvhAGyfUam"
      },
      "source": [
        "save_pollutant = gbr_pollutant.predict(evalpollutant)\n",
        "ddf2[\"carbonscore\"] = save_pollutant"
      ],
      "execution_count": null,
      "outputs": []
    },
    {
      "cell_type": "code",
      "metadata": {
        "colab": {
          "base_uri": "https://localhost:8080/",
          "height": 206
        },
        "id": "h2hbnI_efmrx",
        "outputId": "0eadc943-5469-4965-ae2a-72757afd6c6c"
      },
      "source": [
        "ddf2[\"state_code\"] = ddf2[\"state_code\"].astype(int)\n",
        "ddf2[\"county_code\"] = ddf2[\"county_code\"].astype(int)\n",
        "ddf2[\"year\"] = ddf2[\"year\"].astype(int)\n",
        "ddf2[\"city_num\"] = ddf2[\"city_num\"].astype(int)\n",
        "ddf2.head()"
      ],
      "execution_count": null,
      "outputs": [
        {
          "output_type": "execute_result",
          "data": {
            "text/html": [
              "<div>\n",
              "<style scoped>\n",
              "    .dataframe tbody tr th:only-of-type {\n",
              "        vertical-align: middle;\n",
              "    }\n",
              "\n",
              "    .dataframe tbody tr th {\n",
              "        vertical-align: top;\n",
              "    }\n",
              "\n",
              "    .dataframe thead th {\n",
              "        text-align: right;\n",
              "    }\n",
              "</style>\n",
              "<table border=\"1\" class=\"dataframe\">\n",
              "  <thead>\n",
              "    <tr style=\"text-align: right;\">\n",
              "      <th></th>\n",
              "      <th>state_code</th>\n",
              "      <th>county_code</th>\n",
              "      <th>year</th>\n",
              "      <th>city_num</th>\n",
              "      <th>carbonscore</th>\n",
              "    </tr>\n",
              "  </thead>\n",
              "  <tbody>\n",
              "    <tr>\n",
              "      <th>0</th>\n",
              "      <td>1</td>\n",
              "      <td>73</td>\n",
              "      <td>2022</td>\n",
              "      <td>25</td>\n",
              "      <td>0.299754</td>\n",
              "    </tr>\n",
              "    <tr>\n",
              "      <th>1</th>\n",
              "      <td>1</td>\n",
              "      <td>73</td>\n",
              "      <td>2022</td>\n",
              "      <td>97</td>\n",
              "      <td>0.311393</td>\n",
              "    </tr>\n",
              "    <tr>\n",
              "      <th>2</th>\n",
              "      <td>2</td>\n",
              "      <td>20</td>\n",
              "      <td>2022</td>\n",
              "      <td>6</td>\n",
              "      <td>0.544548</td>\n",
              "    </tr>\n",
              "    <tr>\n",
              "      <th>3</th>\n",
              "      <td>2</td>\n",
              "      <td>90</td>\n",
              "      <td>2022</td>\n",
              "      <td>96</td>\n",
              "      <td>0.364283</td>\n",
              "    </tr>\n",
              "    <tr>\n",
              "      <th>4</th>\n",
              "      <td>4</td>\n",
              "      <td>12</td>\n",
              "      <td>2022</td>\n",
              "      <td>299</td>\n",
              "      <td>0.253231</td>\n",
              "    </tr>\n",
              "  </tbody>\n",
              "</table>\n",
              "</div>"
            ],
            "text/plain": [
              "   state_code  county_code  year  city_num  carbonscore\n",
              "0           1           73  2022        25     0.299754\n",
              "1           1           73  2022        97     0.311393\n",
              "2           2           20  2022         6     0.544548\n",
              "3           2           90  2022        96     0.364283\n",
              "4           4           12  2022       299     0.253231"
            ]
          },
          "metadata": {},
          "execution_count": 192
        }
      ]
    },
    {
      "cell_type": "code",
      "metadata": {
        "id": "xNR2XF_zgI2m"
      },
      "source": [
        "ddf2.to_csv(\"/content/drive/MyDrive/272/pollutants.csv\", index=False)"
      ],
      "execution_count": null,
      "outputs": []
    },
    {
      "cell_type": "code",
      "metadata": {
        "id": "EJ3fOD-ogl45"
      },
      "source": [
        "import pickle\n",
        "filename = '/content/drive/MyDrive/272/pollutant.pkl'\n",
        "pickle.dump(gbr_pollutant, open(filename, 'wb'))"
      ],
      "execution_count": null,
      "outputs": []
    },
    {
      "cell_type": "markdown",
      "metadata": {
        "id": "SityT5yrZB3V"
      },
      "source": [
        "# Model 3: State Maps"
      ]
    },
    {
      "cell_type": "code",
      "metadata": {
        "id": "HnIHBZJsZFYB"
      },
      "source": [
        "df_g_smap = df_model_smap.groupby([\"state_code\", \"year\"])[\"arithmetic_mean\"].mean().reset_index()"
      ],
      "execution_count": null,
      "outputs": []
    },
    {
      "cell_type": "code",
      "metadata": {
        "id": "9DOOX_yFajVi"
      },
      "source": [
        "X_smap = df_g_smap.drop([\"arithmetic_mean\"], axis=1)\n",
        "Y_smap = df_g_smap[[\"arithmetic_mean\"]]"
      ],
      "execution_count": null,
      "outputs": []
    },
    {
      "cell_type": "code",
      "metadata": {
        "colab": {
          "base_uri": "https://localhost:8080/"
        },
        "id": "QvpYFVB7bCfc",
        "outputId": "4fe62f29-04c1-405e-b34e-e19712eadce8"
      },
      "source": [
        "X_smap.info()"
      ],
      "execution_count": null,
      "outputs": [
        {
          "output_type": "stream",
          "name": "stdout",
          "text": [
            "<class 'pandas.core.frame.DataFrame'>\n",
            "RangeIndex: 577 entries, 0 to 576\n",
            "Data columns (total 2 columns):\n",
            " #   Column      Non-Null Count  Dtype\n",
            "---  ------      --------------  -----\n",
            " 0   state_code  577 non-null    int64\n",
            " 1   year        577 non-null    int64\n",
            "dtypes: int64(2)\n",
            "memory usage: 9.1 KB\n"
          ]
        }
      ]
    },
    {
      "cell_type": "code",
      "metadata": {
        "id": "Lumq4KBNbMk3"
      },
      "source": [
        "X_smap_train = X_smap[:500]\n",
        "Y_smap_train = Y_smap[:500]\n",
        "X_smap_test = X_smap[500:]\n",
        "Y_smap_test = Y_smap[500:]"
      ],
      "execution_count": null,
      "outputs": []
    },
    {
      "cell_type": "code",
      "metadata": {
        "id": "KmoqVWzQgfUZ"
      },
      "source": [
        "ddict3 = {'state_code':[],\n",
        "    'year':[]\n",
        "}\n",
        "ddf3 = pd.DataFrame(ddict3)\n",
        "for i in range(2022, 2027):\n",
        "  for j in (list(X[\"state_code\"].unique())):\n",
        "      ddf3.loc[len(ddf3.index)] = [j, i]"
      ],
      "execution_count": null,
      "outputs": []
    },
    {
      "cell_type": "code",
      "metadata": {
        "colab": {
          "base_uri": "https://localhost:8080/"
        },
        "id": "3hd_WawFgrI0",
        "outputId": "a7f89778-05bd-47bb-87e7-e6e7e0f5ed91"
      },
      "source": [
        "ddf3.info()"
      ],
      "execution_count": null,
      "outputs": [
        {
          "output_type": "stream",
          "name": "stdout",
          "text": [
            "<class 'pandas.core.frame.DataFrame'>\n",
            "Int64Index: 265 entries, 0 to 264\n",
            "Data columns (total 2 columns):\n",
            " #   Column      Non-Null Count  Dtype  \n",
            "---  ------      --------------  -----  \n",
            " 0   state_code  265 non-null    float64\n",
            " 1   year        265 non-null    float64\n",
            "dtypes: float64(2)\n",
            "memory usage: 6.2 KB\n"
          ]
        }
      ]
    },
    {
      "cell_type": "code",
      "metadata": {
        "id": "rO3J6pMia5rA"
      },
      "source": [
        "scaler = MinMaxScaler()\n",
        "X_smap_scaled = scaler.fit_transform(X_smap_train)\n",
        "X_smap_test_scaled = scaler.transform(X_smap_test)\n",
        "evalsmap = scaler.transform(ddf3)"
      ],
      "execution_count": null,
      "outputs": []
    },
    {
      "cell_type": "code",
      "metadata": {
        "colab": {
          "base_uri": "https://localhost:8080/"
        },
        "id": "UZLx_iCBbniT",
        "outputId": "fcaf90da-102a-4c28-c9cc-805a7c8efd40"
      },
      "source": [
        "rgbr = RandomForestRegressor()\n",
        "rgbr.fit(X_smap_scaled, Y_smap_train)\n",
        "pred = rgbr.predict(X_smap_test_scaled)\n",
        "print(\"MSE: \", mean_squared_error(pred, Y_smap_test))"
      ],
      "execution_count": null,
      "outputs": [
        {
          "output_type": "stream",
          "name": "stdout",
          "text": [
            "MSE:  0.04570929886728043\n"
          ]
        },
        {
          "output_type": "stream",
          "name": "stderr",
          "text": [
            "/usr/local/lib/python3.7/dist-packages/ipykernel_launcher.py:2: DataConversionWarning: A column-vector y was passed when a 1d array was expected. Please change the shape of y to (n_samples,), for example using ravel().\n",
            "  \n"
          ]
        }
      ]
    },
    {
      "cell_type": "code",
      "metadata": {
        "colab": {
          "base_uri": "https://localhost:8080/"
        },
        "id": "AJ3mZRz3cchm",
        "outputId": "5525e62f-2c58-46e6-e33a-9d808c0f5186"
      },
      "source": [
        "bgg = GradientBoostingRegressor()\n",
        "bgg.fit(X_smap_scaled, Y_smap_train)\n",
        "pred = bgg.predict(X_smap_test_scaled)\n",
        "print(\"MSE: \", mean_squared_error(pred, Y_smap_test))"
      ],
      "execution_count": null,
      "outputs": [
        {
          "output_type": "stream",
          "name": "stdout",
          "text": [
            "MSE:  0.046345864730261706\n"
          ]
        },
        {
          "output_type": "stream",
          "name": "stderr",
          "text": [
            "/usr/local/lib/python3.7/dist-packages/sklearn/ensemble/_gb.py:494: DataConversionWarning: A column-vector y was passed when a 1d array was expected. Please change the shape of y to (n_samples, ), for example using ravel().\n",
            "  y = column_or_1d(y, warn=True)\n"
          ]
        }
      ]
    },
    {
      "cell_type": "code",
      "metadata": {
        "colab": {
          "base_uri": "https://localhost:8080/",
          "height": 206
        },
        "id": "XUR5PVG9g6hb",
        "outputId": "739cd378-6afb-4620-d37a-022f3f0765cd"
      },
      "source": [
        "save_smap = bgg.predict(evalsmap)\n",
        "ddf3[\"carbonscore\"] = save_smap\n",
        "ddf3[\"state_code\"] = ddf3[\"state_code\"].astype(int)\n",
        "ddf3[\"year\"] = ddf3[\"year\"].astype(int)\n",
        "ddf3.head()"
      ],
      "execution_count": null,
      "outputs": [
        {
          "output_type": "execute_result",
          "data": {
            "text/html": [
              "<div>\n",
              "<style scoped>\n",
              "    .dataframe tbody tr th:only-of-type {\n",
              "        vertical-align: middle;\n",
              "    }\n",
              "\n",
              "    .dataframe tbody tr th {\n",
              "        vertical-align: top;\n",
              "    }\n",
              "\n",
              "    .dataframe thead th {\n",
              "        text-align: right;\n",
              "    }\n",
              "</style>\n",
              "<table border=\"1\" class=\"dataframe\">\n",
              "  <thead>\n",
              "    <tr style=\"text-align: right;\">\n",
              "      <th></th>\n",
              "      <th>state_code</th>\n",
              "      <th>year</th>\n",
              "      <th>carbonscore</th>\n",
              "    </tr>\n",
              "  </thead>\n",
              "  <tbody>\n",
              "    <tr>\n",
              "      <th>0</th>\n",
              "      <td>1</td>\n",
              "      <td>2022</td>\n",
              "      <td>0.300726</td>\n",
              "    </tr>\n",
              "    <tr>\n",
              "      <th>1</th>\n",
              "      <td>2</td>\n",
              "      <td>2022</td>\n",
              "      <td>0.430430</td>\n",
              "    </tr>\n",
              "    <tr>\n",
              "      <th>2</th>\n",
              "      <td>4</td>\n",
              "      <td>2022</td>\n",
              "      <td>0.321892</td>\n",
              "    </tr>\n",
              "    <tr>\n",
              "      <th>3</th>\n",
              "      <td>5</td>\n",
              "      <td>2022</td>\n",
              "      <td>0.321892</td>\n",
              "    </tr>\n",
              "    <tr>\n",
              "      <th>4</th>\n",
              "      <td>6</td>\n",
              "      <td>2022</td>\n",
              "      <td>0.298301</td>\n",
              "    </tr>\n",
              "  </tbody>\n",
              "</table>\n",
              "</div>"
            ],
            "text/plain": [
              "   state_code  year  carbonscore\n",
              "0           1  2022     0.300726\n",
              "1           2  2022     0.430430\n",
              "2           4  2022     0.321892\n",
              "3           5  2022     0.321892\n",
              "4           6  2022     0.298301"
            ]
          },
          "metadata": {},
          "execution_count": 209
        }
      ]
    },
    {
      "cell_type": "code",
      "metadata": {
        "id": "4cEUJ6nJhWZY"
      },
      "source": [
        "ddf3.to_csv(\"/content/drive/MyDrive/272/statemap.csv\", index=False)"
      ],
      "execution_count": null,
      "outputs": []
    },
    {
      "cell_type": "code",
      "metadata": {
        "id": "1Ns4o2aMcuDH"
      },
      "source": [
        "import pickle\n",
        "filename = '/content/drive/MyDrive/272/statemap.pkl'\n",
        "pickle.dump(bgg, open(filename, 'wb'))"
      ],
      "execution_count": null,
      "outputs": []
    },
    {
      "cell_type": "markdown",
      "metadata": {
        "id": "bQhj-22DWmAq"
      },
      "source": [
        "# LSTM Model"
      ]
    },
    {
      "cell_type": "code",
      "metadata": {
        "colab": {
          "base_uri": "https://localhost:8080/",
          "height": 1000
        },
        "id": "cU4O8yupWoDh",
        "outputId": "faa3bacd-7b18-468c-81e9-cd6f58627a05"
      },
      "source": [
        "# LSTM for international airline passengers problem with regression framing\n",
        "import numpy\n",
        "import matplotlib.pyplot as plt\n",
        "from pandas import read_csv\n",
        "import math\n",
        "from keras.models import Sequential\n",
        "from keras.layers import Dense\n",
        "from keras.layers import LSTM\n",
        "from sklearn.preprocessing import MinMaxScaler\n",
        "from sklearn.metrics import mean_squared_error\n",
        "# convert an array of values into a dataset matrix\n",
        "def create_dataset(dataset, look_back=1):\n",
        "\tdataX, dataY = [], []\n",
        "\tfor i in range(len(dataset)-look_back-1):\n",
        "\t\ta = dataset[i:(i+look_back), 0]\n",
        "\t\tdataX.append(a)\n",
        "\t\tdataY.append(dataset[i + look_back, 0])\n",
        "\treturn numpy.array(dataX), numpy.array(dataY)\n",
        "# fix random seed for reproducibility\n",
        "numpy.random.seed(7)\n",
        "# load the dataset\n",
        "dataframe = df_g_smap.copy(deep=True)\n",
        "#dataframe = read_csv('/content/drive/MyDrive/272/lstm.csv', usecols=[1], engine='python')\n",
        "dataset = dataframe.values\n",
        "dataset = dataset.astype('float32')\n",
        "# normalize the dataset\n",
        "scaler = MinMaxScaler(feature_range=(0, 1))\n",
        "dataset = scaler.fit_transform(dataset)\n",
        "# split into train and test sets\n",
        "train_size = int(len(dataset) * 0.67)\n",
        "test_size = len(dataset) - train_size\n",
        "train, test = dataset[0:train_size,:], dataset[train_size:len(dataset),:]\n",
        "# reshape into X=t and Y=t+1\n",
        "look_back = 1\n",
        "trainX, trainY = create_dataset(train, look_back)\n",
        "testX, testY = create_dataset(test, look_back)\n",
        "# reshape input to be [samples, time steps, features]\n",
        "trainX = numpy.reshape(trainX, (trainX.shape[0], 1, trainX.shape[1]))\n",
        "testX = numpy.reshape(testX, (testX.shape[0], 1, testX.shape[1]))\n",
        "# create and fit the LSTM network\n",
        "model = Sequential()\n",
        "model.add(LSTM(4, input_shape=(1, look_back)))\n",
        "model.add(Dense(1))\n",
        "model.compile(loss='mean_squared_error', optimizer='adam')\n",
        "model.fit(trainX, trainY, epochs=100, batch_size=1, verbose=2)\n",
        "# make predictions\n",
        "trainPredict = model.predict(trainX)\n",
        "testPredict = model.predict(testX)\n",
        "# invert predictions\n",
        "trainPredict = scaler.inverse_transform(trainPredict)\n",
        "trainY = scaler.inverse_transform([trainY])\n",
        "testPredict = scaler.inverse_transform(testPredict)\n",
        "testY = scaler.inverse_transform([testY])\n",
        "# calculate root mean squared error\n",
        "trainScore = math.sqrt(mean_squared_error(trainY[0], trainPredict[:,0]))\n",
        "print('Train Score: %.2f RMSE' % (trainScore))\n",
        "testScore = math.sqrt(mean_squared_error(testY[0], testPredict[:,0]))\n",
        "print('Test Score: %.2f RMSE' % (testScore))\n",
        "# shift train predictions for plotting\n",
        "trainPredictPlot = numpy.empty_like(dataset)\n",
        "trainPredictPlot[:, :] = numpy.nan\n",
        "trainPredictPlot[look_back:len(trainPredict)+look_back, :] = trainPredict\n",
        "# shift test predictions for plotting\n",
        "testPredictPlot = numpy.empty_like(dataset)\n",
        "testPredictPlot[:, :] = numpy.nan\n",
        "testPredictPlot[len(trainPredict)+(look_back*2)+1:len(dataset)-1, :] = testPredict\n",
        "# plot baseline and predictions\n",
        "plt.plot(scaler.inverse_transform(dataset))\n",
        "plt.plot(trainPredictPlot)\n",
        "plt.plot(testPredictPlot)\n",
        "plt.show()"
      ],
      "execution_count": null,
      "outputs": [
        {
          "output_type": "stream",
          "name": "stdout",
          "text": [
            "Epoch 1/100\n",
            "94/94 - 4s - loss: 0.0379 - 4s/epoch - 46ms/step\n",
            "Epoch 2/100\n",
            "94/94 - 0s - loss: 0.0189 - 188ms/epoch - 2ms/step\n",
            "Epoch 3/100\n",
            "94/94 - 0s - loss: 0.0146 - 193ms/epoch - 2ms/step\n",
            "Epoch 4/100\n",
            "94/94 - 0s - loss: 0.0133 - 192ms/epoch - 2ms/step\n",
            "Epoch 5/100\n",
            "94/94 - 0s - loss: 0.0122 - 189ms/epoch - 2ms/step\n",
            "Epoch 6/100\n",
            "94/94 - 0s - loss: 0.0112 - 198ms/epoch - 2ms/step\n",
            "Epoch 7/100\n",
            "94/94 - 0s - loss: 0.0100 - 182ms/epoch - 2ms/step\n",
            "Epoch 8/100\n",
            "94/94 - 0s - loss: 0.0089 - 192ms/epoch - 2ms/step\n",
            "Epoch 9/100\n",
            "94/94 - 0s - loss: 0.0077 - 197ms/epoch - 2ms/step\n",
            "Epoch 10/100\n",
            "94/94 - 0s - loss: 0.0065 - 189ms/epoch - 2ms/step\n",
            "Epoch 11/100\n",
            "94/94 - 0s - loss: 0.0054 - 188ms/epoch - 2ms/step\n",
            "Epoch 12/100\n",
            "94/94 - 0s - loss: 0.0044 - 181ms/epoch - 2ms/step\n",
            "Epoch 13/100\n",
            "94/94 - 0s - loss: 0.0037 - 188ms/epoch - 2ms/step\n",
            "Epoch 14/100\n",
            "94/94 - 0s - loss: 0.0031 - 188ms/epoch - 2ms/step\n",
            "Epoch 15/100\n",
            "94/94 - 0s - loss: 0.0027 - 189ms/epoch - 2ms/step\n",
            "Epoch 16/100\n",
            "94/94 - 0s - loss: 0.0024 - 193ms/epoch - 2ms/step\n",
            "Epoch 17/100\n",
            "94/94 - 0s - loss: 0.0022 - 193ms/epoch - 2ms/step\n",
            "Epoch 18/100\n",
            "94/94 - 0s - loss: 0.0021 - 185ms/epoch - 2ms/step\n",
            "Epoch 19/100\n",
            "94/94 - 0s - loss: 0.0021 - 186ms/epoch - 2ms/step\n",
            "Epoch 20/100\n",
            "94/94 - 0s - loss: 0.0021 - 196ms/epoch - 2ms/step\n",
            "Epoch 21/100\n",
            "94/94 - 0s - loss: 0.0021 - 200ms/epoch - 2ms/step\n",
            "Epoch 22/100\n",
            "94/94 - 0s - loss: 0.0020 - 185ms/epoch - 2ms/step\n",
            "Epoch 23/100\n",
            "94/94 - 0s - loss: 0.0021 - 182ms/epoch - 2ms/step\n",
            "Epoch 24/100\n",
            "94/94 - 0s - loss: 0.0020 - 191ms/epoch - 2ms/step\n",
            "Epoch 25/100\n",
            "94/94 - 0s - loss: 0.0020 - 193ms/epoch - 2ms/step\n",
            "Epoch 26/100\n",
            "94/94 - 0s - loss: 0.0020 - 190ms/epoch - 2ms/step\n",
            "Epoch 27/100\n",
            "94/94 - 0s - loss: 0.0020 - 184ms/epoch - 2ms/step\n",
            "Epoch 28/100\n",
            "94/94 - 0s - loss: 0.0020 - 187ms/epoch - 2ms/step\n",
            "Epoch 29/100\n",
            "94/94 - 0s - loss: 0.0020 - 188ms/epoch - 2ms/step\n",
            "Epoch 30/100\n",
            "94/94 - 0s - loss: 0.0020 - 190ms/epoch - 2ms/step\n",
            "Epoch 31/100\n",
            "94/94 - 0s - loss: 0.0020 - 188ms/epoch - 2ms/step\n",
            "Epoch 32/100\n",
            "94/94 - 0s - loss: 0.0019 - 191ms/epoch - 2ms/step\n",
            "Epoch 33/100\n",
            "94/94 - 0s - loss: 0.0020 - 186ms/epoch - 2ms/step\n",
            "Epoch 34/100\n",
            "94/94 - 0s - loss: 0.0020 - 192ms/epoch - 2ms/step\n",
            "Epoch 35/100\n",
            "94/94 - 0s - loss: 0.0020 - 185ms/epoch - 2ms/step\n",
            "Epoch 36/100\n",
            "94/94 - 0s - loss: 0.0020 - 189ms/epoch - 2ms/step\n",
            "Epoch 37/100\n",
            "94/94 - 0s - loss: 0.0020 - 183ms/epoch - 2ms/step\n",
            "Epoch 38/100\n",
            "94/94 - 0s - loss: 0.0020 - 184ms/epoch - 2ms/step\n",
            "Epoch 39/100\n",
            "94/94 - 0s - loss: 0.0020 - 182ms/epoch - 2ms/step\n",
            "Epoch 40/100\n",
            "94/94 - 0s - loss: 0.0020 - 182ms/epoch - 2ms/step\n",
            "Epoch 41/100\n",
            "94/94 - 0s - loss: 0.0020 - 183ms/epoch - 2ms/step\n",
            "Epoch 42/100\n",
            "94/94 - 0s - loss: 0.0020 - 185ms/epoch - 2ms/step\n",
            "Epoch 43/100\n",
            "94/94 - 0s - loss: 0.0020 - 182ms/epoch - 2ms/step\n",
            "Epoch 44/100\n",
            "94/94 - 0s - loss: 0.0020 - 183ms/epoch - 2ms/step\n",
            "Epoch 45/100\n",
            "94/94 - 0s - loss: 0.0020 - 187ms/epoch - 2ms/step\n",
            "Epoch 46/100\n",
            "94/94 - 0s - loss: 0.0020 - 189ms/epoch - 2ms/step\n",
            "Epoch 47/100\n",
            "94/94 - 0s - loss: 0.0020 - 192ms/epoch - 2ms/step\n",
            "Epoch 48/100\n",
            "94/94 - 0s - loss: 0.0020 - 189ms/epoch - 2ms/step\n",
            "Epoch 49/100\n",
            "94/94 - 0s - loss: 0.0020 - 196ms/epoch - 2ms/step\n",
            "Epoch 50/100\n",
            "94/94 - 0s - loss: 0.0021 - 200ms/epoch - 2ms/step\n",
            "Epoch 51/100\n",
            "94/94 - 0s - loss: 0.0020 - 187ms/epoch - 2ms/step\n",
            "Epoch 52/100\n",
            "94/94 - 0s - loss: 0.0020 - 190ms/epoch - 2ms/step\n",
            "Epoch 53/100\n",
            "94/94 - 0s - loss: 0.0020 - 191ms/epoch - 2ms/step\n",
            "Epoch 54/100\n",
            "94/94 - 0s - loss: 0.0020 - 188ms/epoch - 2ms/step\n",
            "Epoch 55/100\n",
            "94/94 - 0s - loss: 0.0020 - 183ms/epoch - 2ms/step\n",
            "Epoch 56/100\n",
            "94/94 - 0s - loss: 0.0020 - 199ms/epoch - 2ms/step\n",
            "Epoch 57/100\n",
            "94/94 - 0s - loss: 0.0021 - 194ms/epoch - 2ms/step\n",
            "Epoch 58/100\n",
            "94/94 - 0s - loss: 0.0020 - 189ms/epoch - 2ms/step\n",
            "Epoch 59/100\n",
            "94/94 - 0s - loss: 0.0020 - 192ms/epoch - 2ms/step\n",
            "Epoch 60/100\n",
            "94/94 - 0s - loss: 0.0020 - 185ms/epoch - 2ms/step\n",
            "Epoch 61/100\n",
            "94/94 - 0s - loss: 0.0020 - 188ms/epoch - 2ms/step\n",
            "Epoch 62/100\n",
            "94/94 - 0s - loss: 0.0020 - 191ms/epoch - 2ms/step\n",
            "Epoch 63/100\n",
            "94/94 - 0s - loss: 0.0020 - 198ms/epoch - 2ms/step\n",
            "Epoch 64/100\n",
            "94/94 - 0s - loss: 0.0020 - 178ms/epoch - 2ms/step\n",
            "Epoch 65/100\n",
            "94/94 - 0s - loss: 0.0020 - 191ms/epoch - 2ms/step\n",
            "Epoch 66/100\n",
            "94/94 - 0s - loss: 0.0020 - 189ms/epoch - 2ms/step\n",
            "Epoch 67/100\n",
            "94/94 - 0s - loss: 0.0020 - 195ms/epoch - 2ms/step\n",
            "Epoch 68/100\n",
            "94/94 - 0s - loss: 0.0020 - 189ms/epoch - 2ms/step\n",
            "Epoch 69/100\n",
            "94/94 - 0s - loss: 0.0020 - 186ms/epoch - 2ms/step\n",
            "Epoch 70/100\n",
            "94/94 - 0s - loss: 0.0020 - 187ms/epoch - 2ms/step\n",
            "Epoch 71/100\n",
            "94/94 - 0s - loss: 0.0021 - 192ms/epoch - 2ms/step\n",
            "Epoch 72/100\n",
            "94/94 - 0s - loss: 0.0020 - 185ms/epoch - 2ms/step\n",
            "Epoch 73/100\n",
            "94/94 - 0s - loss: 0.0020 - 184ms/epoch - 2ms/step\n",
            "Epoch 74/100\n",
            "94/94 - 0s - loss: 0.0020 - 192ms/epoch - 2ms/step\n",
            "Epoch 75/100\n",
            "94/94 - 0s - loss: 0.0020 - 194ms/epoch - 2ms/step\n",
            "Epoch 76/100\n",
            "94/94 - 0s - loss: 0.0020 - 183ms/epoch - 2ms/step\n",
            "Epoch 77/100\n",
            "94/94 - 0s - loss: 0.0020 - 178ms/epoch - 2ms/step\n",
            "Epoch 78/100\n",
            "94/94 - 0s - loss: 0.0020 - 189ms/epoch - 2ms/step\n",
            "Epoch 79/100\n",
            "94/94 - 0s - loss: 0.0020 - 189ms/epoch - 2ms/step\n",
            "Epoch 80/100\n",
            "94/94 - 0s - loss: 0.0020 - 186ms/epoch - 2ms/step\n",
            "Epoch 81/100\n",
            "94/94 - 0s - loss: 0.0021 - 186ms/epoch - 2ms/step\n",
            "Epoch 82/100\n",
            "94/94 - 0s - loss: 0.0020 - 185ms/epoch - 2ms/step\n",
            "Epoch 83/100\n",
            "94/94 - 0s - loss: 0.0020 - 190ms/epoch - 2ms/step\n",
            "Epoch 84/100\n",
            "94/94 - 0s - loss: 0.0020 - 183ms/epoch - 2ms/step\n",
            "Epoch 85/100\n",
            "94/94 - 0s - loss: 0.0020 - 186ms/epoch - 2ms/step\n",
            "Epoch 86/100\n",
            "94/94 - 0s - loss: 0.0020 - 190ms/epoch - 2ms/step\n",
            "Epoch 87/100\n",
            "94/94 - 0s - loss: 0.0020 - 184ms/epoch - 2ms/step\n",
            "Epoch 88/100\n",
            "94/94 - 0s - loss: 0.0020 - 185ms/epoch - 2ms/step\n",
            "Epoch 89/100\n",
            "94/94 - 0s - loss: 0.0021 - 192ms/epoch - 2ms/step\n",
            "Epoch 90/100\n",
            "94/94 - 0s - loss: 0.0020 - 184ms/epoch - 2ms/step\n",
            "Epoch 91/100\n",
            "94/94 - 0s - loss: 0.0020 - 193ms/epoch - 2ms/step\n",
            "Epoch 92/100\n",
            "94/94 - 0s - loss: 0.0020 - 194ms/epoch - 2ms/step\n",
            "Epoch 93/100\n",
            "94/94 - 0s - loss: 0.0020 - 188ms/epoch - 2ms/step\n",
            "Epoch 94/100\n",
            "94/94 - 0s - loss: 0.0020 - 196ms/epoch - 2ms/step\n",
            "Epoch 95/100\n",
            "94/94 - 0s - loss: 0.0020 - 191ms/epoch - 2ms/step\n",
            "Epoch 96/100\n",
            "94/94 - 0s - loss: 0.0020 - 194ms/epoch - 2ms/step\n",
            "Epoch 97/100\n",
            "94/94 - 0s - loss: 0.0020 - 189ms/epoch - 2ms/step\n",
            "Epoch 98/100\n",
            "94/94 - 0s - loss: 0.0020 - 190ms/epoch - 2ms/step\n",
            "Epoch 99/100\n",
            "94/94 - 0s - loss: 0.0021 - 184ms/epoch - 2ms/step\n",
            "Epoch 100/100\n",
            "94/94 - 0s - loss: 0.0020 - 202ms/epoch - 2ms/step\n",
            "Train Score: 22.87 RMSE\n",
            "Test Score: 48.67 RMSE\n"
          ]
        },
        {
          "output_type": "display_data",
          "data": {
            "image/png": "[encoded data removed]",
            "text/plain": [
              "<Figure size 432x288 with 1 Axes>"
            ]
          },
          "metadata": {
            "needs_background": "light"
          }
        }
      ]
    },
    {
      "cell_type": "code",
      "metadata": {
        "id": "UVynh63XXNZI"
      },
      "source": [
        "import pickle\n",
        "filename = '/content/drive/MyDrive/272/statemap.pkl'\n",
        "pickle.dump(model, open(filename, 'wb'))"
      ],
      "execution_count": null,
      "outputs": []
    },
    {
      "cell_type": "markdown",
      "metadata": {
        "id": "t6aCr61SWgnD"
      },
      "source": [
        "# Extracting Useful Features"
      ]
    },
    {
      "cell_type": "code",
      "metadata": {
        "colab": {
          "base_uri": "https://localhost:8080/"
        },
        "id": "Ng2O7YVdWiuX",
        "outputId": "d5d5d036-e641-4fba-eb73-e1f3d41f7540"
      },
      "source": [
        "ef = df[[\"state_name\", \"state_code\", \"county_name\", \"county_code\"]]\n",
        "se = ef[[\"state_name\", \"state_code\"]].drop_duplicates(keep='first')\n",
        "se[\"state_code\"] = se[\"state_code\"].astype(int)\n",
        "dict(se.values)"
      ],
      "execution_count": null,
      "outputs": [
        {
          "output_type": "execute_result",
          "data": {
            "text/plain": [
              "{'Alabama': 1,\n",
              " 'Alaska': 2,\n",
              " 'Arizona': 4,\n",
              " 'Arkansas': 5,\n",
              " 'California': 6,\n",
              " 'Colorado': 8,\n",
              " 'Connecticut': 9,\n",
              " 'Country Of Mexico': 80,\n",
              " 'Delaware': 10,\n",
              " 'District Of Columbia': 11,\n",
              " 'Florida': 12,\n",
              " 'Georgia': 13,\n",
              " 'Hawaii': 15,\n",
              " 'Idaho': 16,\n",
              " 'Illinois': 17,\n",
              " 'Indiana': 18,\n",
              " 'Iowa': 19,\n",
              " 'Kansas': 20,\n",
              " 'Kentucky': 21,\n",
              " 'Louisiana': 22,\n",
              " 'Maine': 23,\n",
              " 'Maryland': 24,\n",
              " 'Massachusetts': 25,\n",
              " 'Michigan': 26,\n",
              " 'Minnesota': 27,\n",
              " 'Mississippi': 28,\n",
              " 'Missouri': 29,\n",
              " 'Montana': 30,\n",
              " 'Nebraska': 31,\n",
              " 'Nevada': 32,\n",
              " 'New Hampshire': 33,\n",
              " 'New Jersey': 34,\n",
              " 'New Mexico': 35,\n",
              " 'New York': 36,\n",
              " 'North Carolina': 37,\n",
              " 'North Dakota': 38,\n",
              " 'Ohio': 39,\n",
              " 'Oklahoma': 40,\n",
              " 'Oregon': 41,\n",
              " 'Pennsylvania': 42,\n",
              " 'Puerto Rico': 72,\n",
              " 'Rhode Island': 44,\n",
              " 'South Carolina': 45,\n",
              " 'South Dakota': 46,\n",
              " 'Tennessee': 47,\n",
              " 'Texas': 48,\n",
              " 'Utah': 49,\n",
              " 'Vermont': 50,\n",
              " 'Virginia': 51,\n",
              " 'Washington': 53,\n",
              " 'West Virginia': 54,\n",
              " 'Wisconsin': 55,\n",
              " 'Wyoming': 56}"
            ]
          },
          "metadata": {},
          "execution_count": 63
        }
      ]
    },
    {
      "cell_type": "code",
      "metadata": {
        "colab": {
          "base_uri": "https://localhost:8080/"
        },
        "id": "irNcEve0X1lf",
        "outputId": "950ee65e-b8e9-4b4e-eab4-1b7a85735380"
      },
      "source": [
        "ce = ef[[\"county_name\", \"county_code\"]].drop_duplicates(keep='first')\n",
        "ce[\"county_code\"] = ce[\"county_code\"].astype(int)\n",
        "dict(ce.values)"
      ],
      "execution_count": null,
      "outputs": [
        {
          "output_type": "execute_result",
          "data": {
            "text/plain": [
              "{'Ada': 1,\n",
              " 'Adair': 1,\n",
              " 'Adams': 1,\n",
              " 'Alameda': 1,\n",
              " 'Albany': 1,\n",
              " 'Alexandria City': 510,\n",
              " 'Allegheny': 3,\n",
              " 'Allen': 3,\n",
              " 'Anchorage ': 20,\n",
              " 'Anoka': 3,\n",
              " 'Arlington': 13,\n",
              " 'Aroostook': 3,\n",
              " 'Athens': 9,\n",
              " 'BAJA CALIFORNIA NORTE': 2,\n",
              " 'Baltimore': 5,\n",
              " 'Baltimore (City)': 510,\n",
              " 'Bayamon': 21,\n",
              " 'Belmont': 13,\n",
              " 'Bergen': 3,\n",
              " 'Berks': 11,\n",
              " 'Bernalillo': 1,\n",
              " 'Bexar': 29,\n",
              " 'Blount': 9,\n",
              " 'Boulder': 13,\n",
              " 'Bronx': 5,\n",
              " 'Brooke': 9,\n",
              " 'Broward': 11,\n",
              " 'Bucks': 17,\n",
              " 'Burleigh': 15,\n",
              " 'Burlington': 5,\n",
              " 'Butte': 7,\n",
              " 'CHIHUAHUA STATE': 6,\n",
              " 'Caguas': 25,\n",
              " 'Cambria': 21,\n",
              " 'Camden': 7,\n",
              " 'Cameron': 61,\n",
              " 'Cascade': 13,\n",
              " 'Cass': 17,\n",
              " 'Champaign': 19,\n",
              " 'Charleston': 19,\n",
              " 'Cherokee': 21,\n",
              " 'Cheshire': 5,\n",
              " 'Chittenden': 7,\n",
              " 'Clallam': 9,\n",
              " 'Clark': 3,\n",
              " 'Contra Costa': 13,\n",
              " 'Converse': 9,\n",
              " 'Cook': 31,\n",
              " 'Cumberland': 5,\n",
              " 'Cuyahoga': 35,\n",
              " 'Dakota': 37,\n",
              " 'Dallas': 113,\n",
              " 'Dauphin': 43,\n",
              " 'Davidson': 37,\n",
              " 'DeKalb': 89,\n",
              " 'Denver': 31,\n",
              " 'District of Columbia': 1,\n",
              " 'Dodge': 27,\n",
              " 'Dorchester': 19,\n",
              " 'Douglas': 5,\n",
              " 'Duchesne': 13,\n",
              " 'Durham': 63,\n",
              " 'Duval': 31,\n",
              " 'East Baton Rouge': 33,\n",
              " 'Edmonson': 61,\n",
              " 'El Paso': 41,\n",
              " 'Erie': 29,\n",
              " 'Essex': 9,\n",
              " 'Fairbanks North Star ': 90,\n",
              " 'Fairfax': 59,\n",
              " 'Fairfield': 1,\n",
              " 'Flathead': 29,\n",
              " 'Forsyth': 67,\n",
              " 'Franklin': 49,\n",
              " 'Fremont': 13,\n",
              " 'Fresno': 19,\n",
              " 'Fulton': 121,\n",
              " 'Gallatin': 31,\n",
              " 'Garrett': 23,\n",
              " 'Greene': 77,\n",
              " 'Greenville': 45,\n",
              " 'Guaynabo': 61,\n",
              " 'Hamilton': 61,\n",
              " 'Hampden': 13,\n",
              " 'Hampton City': 650,\n",
              " 'Hancock': 29,\n",
              " 'Harris': 201,\n",
              " 'Harrison': 67,\n",
              " 'Hartford': 3,\n",
              " 'Hendricks': 63,\n",
              " 'Hennepin': 53,\n",
              " 'Henrico': 87,\n",
              " 'Hillsborough': 11,\n",
              " 'Hinds': 49,\n",
              " 'Honolulu': 3,\n",
              " 'Howard': 27,\n",
              " 'Hudson': 17,\n",
              " 'Humboldt': 23,\n",
              " 'Imperial': 25,\n",
              " 'Inyo': 27,\n",
              " 'Jackson': 29,\n",
              " 'Jefferson': 111,\n",
              " 'Kanawha': 39,\n",
              " 'Kauai': 7,\n",
              " 'Kay': 71,\n",
              " 'Kent': 81,\n",
              " 'Kern': 29,\n",
              " 'King': 33,\n",
              " 'La Paz': 12,\n",
              " 'La Plata': 67,\n",
              " 'Lackawanna': 69,\n",
              " 'Lake': 89,\n",
              " 'Lancaster': 109,\n",
              " 'Lane': 39,\n",
              " 'Laramie': 21,\n",
              " 'Larimer': 69,\n",
              " 'Lawrence': 73,\n",
              " 'Lewis and Clark': 49,\n",
              " 'Linn': 113,\n",
              " 'Litchfield': 5,\n",
              " 'Los Angeles': 37,\n",
              " 'Madera': 39,\n",
              " 'Maricopa': 13,\n",
              " 'Marin': 41,\n",
              " 'Marion': 97,\n",
              " 'McLennan': 309,\n",
              " 'Mecklenburg': 119,\n",
              " 'Medina': 103,\n",
              " 'Mesa': 77,\n",
              " 'Miami-Dade': 86,\n",
              " 'Middlesex': 17,\n",
              " 'Milwaukee': 79,\n",
              " 'Minnehaha': 99,\n",
              " 'Missoula': 63,\n",
              " 'Monmouth': 25,\n",
              " 'Monroe': 55,\n",
              " 'Monterey': 53,\n",
              " 'Montgomery': 113,\n",
              " 'Morris': 27,\n",
              " 'Multnomah': 51,\n",
              " 'Napa': 55,\n",
              " 'New Castle': 3,\n",
              " 'New Haven': 9,\n",
              " 'New York': 61,\n",
              " 'Newport News City': 700,\n",
              " 'Niagara': 63,\n",
              " 'Norfolk City': 710,\n",
              " 'Northampton': 95,\n",
              " 'Oklahoma': 109,\n",
              " 'Onondaga': 67,\n",
              " 'Orange': 95,\n",
              " 'Orleans': 71,\n",
              " 'Paulding': 223,\n",
              " 'Peoria': 143,\n",
              " 'Philadelphia': 101,\n",
              " 'Pima': 19,\n",
              " 'Pinellas': 103,\n",
              " 'Polk': 153,\n",
              " 'Ponce': 113,\n",
              " 'Preble': 135,\n",
              " \"Prince George's\": 33,\n",
              " 'Providence': 7,\n",
              " 'Pulaski': 119,\n",
              " 'Queens': 81,\n",
              " 'Ramsey': 123,\n",
              " 'Richland': 79,\n",
              " 'Richmond City': 760,\n",
              " 'Riverside': 65,\n",
              " 'Roanoke': 161,\n",
              " 'Roanoke City': 770,\n",
              " 'Rockingham': 15,\n",
              " 'Rowan': 159,\n",
              " 'Rutland': 21,\n",
              " 'Sacramento': 67,\n",
              " 'Saint Clair': 163,\n",
              " 'Saint Louis': 137,\n",
              " 'Salt Lake': 35,\n",
              " 'San Bernardino': 71,\n",
              " 'San Diego': 73,\n",
              " 'San Francisco': 75,\n",
              " 'San Joaquin': 77,\n",
              " 'San Juan': 127,\n",
              " 'San Mateo': 81,\n",
              " 'Sangamon': 167,\n",
              " 'Santa Barbara': 83,\n",
              " 'Santa Clara': 85,\n",
              " 'Santa Cruz': 87,\n",
              " 'Schenectady': 93,\n",
              " 'Scott': 163,\n",
              " 'Sedgwick': 173,\n",
              " 'Shelby': 157,\n",
              " 'Solano': 95,\n",
              " 'Sonoma': 97,\n",
              " 'Spokane': 63,\n",
              " 'St. Louis City': 510,\n",
              " 'Stanislaus': 99,\n",
              " 'Stark': 151,\n",
              " 'Stearns': 145,\n",
              " 'Steuben': 101,\n",
              " 'Suffolk': 103,\n",
              " 'Sullivan': 163,\n",
              " 'Summit': 153,\n",
              " 'Sutter': 101,\n",
              " 'Sweetwater': 37,\n",
              " 'Tarrant': 439,\n",
              " 'Teton': 39,\n",
              " 'Thurston': 67,\n",
              " 'Travis': 453,\n",
              " 'Tulsa': 143,\n",
              " 'Uintah': 47,\n",
              " 'Union': 39,\n",
              " 'Utah': 49,\n",
              " 'Vanderburgh': 163,\n",
              " 'Virginia Beach City': 810,\n",
              " 'Wake': 183,\n",
              " 'Wakulla': 129,\n",
              " 'Washington': 67,\n",
              " 'Washoe': 31,\n",
              " 'Wayne': 163,\n",
              " 'Webb': 479,\n",
              " 'Weber': 57,\n",
              " 'Weld': 123,\n",
              " 'Winnebago': 201,\n",
              " 'Worcester': 27,\n",
              " 'Wyandotte': 209,\n",
              " 'Yellowstone': 111,\n",
              " 'York': 133}"
            ]
          },
          "metadata": {},
          "execution_count": 64
        }
      ]
    },
    {
      "cell_type": "code",
      "metadata": {
        "id": "h7CXZWDKic_6"
      },
      "source": [
        "statenames = [\"Alaska\",\n",
        "                  \"Alabama\",\n",
        "                  \"Arkansas\",\n",
        "                  \"American Samoa\",\n",
        "                  \"Arizona\",\n",
        "                  \"California\",\n",
        "                  \"Colorado\",\n",
        "                  \"Connecticut\",\n",
        "                  \"District of Columbia\",\n",
        "                  \"Delaware\",\n",
        "                  \"Florida\",\n",
        "                  \"Georgia\",\n",
        "                  \"Guam\",\n",
        "                  \"Hawaii\",\n",
        "                  \"Iowa\",\n",
        "                  \"Idaho\",\n",
        "                  \"Illinois\",\n",
        "                  \"Indiana\",\n",
        "                  \"Kansas\",\n",
        "                  \"Kentucky\",\n",
        "                  \"Louisiana\",\n",
        "                  \"Massachusetts\",\n",
        "                  \"Maryland\",\n",
        "                  \"Maine\",\n",
        "                  \"Michigan\",\n",
        "                  \"Minnesota\",\n",
        "                  \"Missouri\",\n",
        "                  \"Mississippi\",\n",
        "                  \"Montana\",\n",
        "                  \"North Carolina\",\n",
        "                  \" North Dakota\",\n",
        "                  \"Nebraska\",\n",
        "                  \"New Hampshire\",\n",
        "                  \"New Jersey\",\n",
        "                  \"New Mexico\",\n",
        "                  \"Nevada\",\n",
        "                  \"New York\",\n",
        "                  \"Ohio\",\n",
        "                  \"Oklahoma\",\n",
        "                  \"Oregon\",\n",
        "                  \"Pennsylvania\",\n",
        "                  \"Puerto Rico\",\n",
        "                  \"Rhode Island\",\n",
        "                  \"South Carolina\",\n",
        "                  \"South Dakota\",\n",
        "                  \"Tennessee\",\n",
        "                  \"Texas\",\n",
        "                  \"Utah\",\n",
        "                  \"Virginia\",\n",
        "                  \"Virgin Islands\",\n",
        "                  \"Vermont\",\n",
        "                  \"Washington\",\n",
        "                  \"Wisconsin\",\n",
        "                  \"West Virginia\",\n",
        "                  \"Wyoming\"]"
      ],
      "execution_count": null,
      "outputs": []
    },
    {
      "cell_type": "code",
      "metadata": {
        "id": "vEulc7HIYQg2"
      },
      "source": [
        "efcn = ef[ef[\"state_name\"].isin([\"Alaska\",\n",
        "                  \"Alabama\",\n",
        "                  \"Arkansas\",\n",
        "                  \"American Samoa\",\n",
        "                  \"Arizona\",\n",
        "                  \"California\",\n",
        "                  \"Colorado\",\n",
        "                  \"Connecticut\",\n",
        "                  \"District of Columbia\",\n",
        "                  \"Delaware\",\n",
        "                  \"Florida\",\n",
        "                  \"Georgia\",\n",
        "                  \"Guam\",\n",
        "                  \"Hawaii\",\n",
        "                  \"Iowa\",\n",
        "                  \"Idaho\",\n",
        "                  \"Illinois\",\n",
        "                  \"Indiana\",\n",
        "                  \"Kansas\",\n",
        "                  \"Kentucky\",\n",
        "                  \"Louisiana\",\n",
        "                  \"Massachusetts\",\n",
        "                  \"Maryland\",\n",
        "                  \"Maine\",\n",
        "                  \"Michigan\",\n",
        "                  \"Minnesota\",\n",
        "                  \"Missouri\",\n",
        "                  \"Mississippi\",\n",
        "                  \"Montana\",\n",
        "                  \"North Carolina\",\n",
        "                  \" North Dakota\",\n",
        "                  \"Nebraska\",\n",
        "                  \"New Hampshire\",\n",
        "                  \"New Jersey\",\n",
        "                  \"New Mexico\",\n",
        "                  \"Nevada\",\n",
        "                  \"New York\",\n",
        "                  \"Ohio\",\n",
        "                  \"Oklahoma\",\n",
        "                  \"Oregon\",\n",
        "                  \"Pennsylvania\",\n",
        "                  \"Puerto Rico\",\n",
        "                  \"Rhode Island\",\n",
        "                  \"South Carolina\",\n",
        "                  \"South Dakota\",\n",
        "                  \"Tennessee\",\n",
        "                  \"Texas\",\n",
        "                  \"Utah\",\n",
        "                  \"Virginia\",\n",
        "                  \"Virgin Islands\",\n",
        "                  \"Vermont\",\n",
        "                  \"Washington\",\n",
        "                  \"Wisconsin\",\n",
        "                  \"West Virginia\",\n",
        "                  \"Wyoming\"])].reset_index(drop=True)[[\"state_name\", \"county_name\"]]\n",
        "efcn = efcn.drop_duplicates(keep='first').reset_index(drop=True)\n",
        "ddict = {}\n",
        "for i in statenames:\n",
        "  ddict[i] = list(efcn[efcn[\"state_name\"]==i][\"county_name\"].values)\n",
        "  #ddict[\"Nevada\"] = list(efcn[efcn[\"state_name\"]==\"Nevada\"][\"county_name\"].values)"
      ],
      "execution_count": null,
      "outputs": []
    },
    {
      "cell_type": "code",
      "metadata": {
        "colab": {
          "base_uri": "https://localhost:8080/"
        },
        "id": "qTrfYp2vccRU",
        "outputId": "9e7e1ba7-680f-4398-d866-0357053253f0"
      },
      "source": [
        "ddict"
      ],
      "execution_count": null,
      "outputs": [
        {
          "output_type": "execute_result",
          "data": {
            "text/plain": [
              "{' North Dakota': [],\n",
              " 'Alabama': ['Jefferson'],\n",
              " 'Alaska': ['Anchorage ', 'Fairbanks North Star '],\n",
              " 'American Samoa': [],\n",
              " 'Arizona': ['La Paz', 'Pima', 'Maricopa'],\n",
              " 'Arkansas': ['Pulaski'],\n",
              " 'California': ['Kern',\n",
              "  'Santa Clara',\n",
              "  'Fresno',\n",
              "  'San Diego',\n",
              "  'Santa Barbara',\n",
              "  'Los Angeles',\n",
              "  'Orange',\n",
              "  'Riverside',\n",
              "  'San Bernardino',\n",
              "  'Marin',\n",
              "  'Inyo',\n",
              "  'Butte',\n",
              "  'Contra Costa',\n",
              "  'Sacramento',\n",
              "  'Napa',\n",
              "  'Sonoma',\n",
              "  'Santa Cruz',\n",
              "  'Solano',\n",
              "  'Madera',\n",
              "  'Sutter',\n",
              "  'Imperial',\n",
              "  'Stanislaus',\n",
              "  'San Francisco',\n",
              "  'Alameda',\n",
              "  'San Mateo',\n",
              "  'San Joaquin',\n",
              "  'Monterey',\n",
              "  'Humboldt'],\n",
              " 'Colorado': ['La Plata',\n",
              "  'Denver',\n",
              "  'Jackson',\n",
              "  'Boulder',\n",
              "  'Weld',\n",
              "  'El Paso',\n",
              "  'Mesa',\n",
              "  'Larimer',\n",
              "  'Adams'],\n",
              " 'Connecticut': ['Fairfield', 'New Haven', 'Litchfield', 'Hartford'],\n",
              " 'Delaware': ['New Castle'],\n",
              " 'District of Columbia': [],\n",
              " 'Florida': ['Duval',\n",
              "  'Pinellas',\n",
              "  'Hillsborough',\n",
              "  'Broward',\n",
              "  'Miami-Dade',\n",
              "  'Wakulla',\n",
              "  'Orange'],\n",
              " 'Georgia': ['Fulton', 'DeKalb', 'Paulding'],\n",
              " 'Guam': [],\n",
              " 'Hawaii': ['Kauai', 'Honolulu'],\n",
              " 'Idaho': ['Ada'],\n",
              " 'Illinois': ['Peoria',\n",
              "  'Cook',\n",
              "  'Sangamon',\n",
              "  'Saint Clair',\n",
              "  'Winnebago',\n",
              "  'Champaign'],\n",
              " 'Indiana': ['Marion', 'Hendricks', 'Allen', 'Lake', 'Vanderburgh'],\n",
              " 'Iowa': ['Scott', 'Polk', 'Linn'],\n",
              " 'Kansas': ['Sedgwick', 'Wyandotte'],\n",
              " 'Kentucky': ['Edmonson', 'Jefferson'],\n",
              " 'Louisiana': ['East Baton Rouge', 'Orleans'],\n",
              " 'Maine': ['Aroostook', 'Hancock', 'Cumberland'],\n",
              " 'Maryland': ['Garrett',\n",
              "  'Dorchester',\n",
              "  'Howard',\n",
              "  \"Prince George's\",\n",
              "  'Baltimore (City)',\n",
              "  'Baltimore'],\n",
              " 'Massachusetts': ['Suffolk', 'Middlesex', 'Hampden', 'Worcester', 'Essex'],\n",
              " 'Michigan': ['Wayne', 'Kent'],\n",
              " 'Minnesota': ['Stearns',\n",
              "  'Hennepin',\n",
              "  'Dakota',\n",
              "  'Ramsey',\n",
              "  'Saint Louis',\n",
              "  'Anoka'],\n",
              " 'Mississippi': ['Hinds'],\n",
              " 'Missouri': ['St. Louis City', 'Jackson', 'Saint Louis', 'Greene'],\n",
              " 'Montana': ['Yellowstone',\n",
              "  'Cascade',\n",
              "  'Lewis and Clark',\n",
              "  'Missoula',\n",
              "  'Flathead',\n",
              "  'Gallatin'],\n",
              " 'Nebraska': ['Douglas', 'Lancaster'],\n",
              " 'Nevada': ['Washoe', 'Clark', 'Douglas'],\n",
              " 'New Hampshire': ['Cheshire', 'Rockingham', 'Hillsborough'],\n",
              " 'New Jersey': ['Middlesex',\n",
              "  'Camden',\n",
              "  'Essex',\n",
              "  'Union',\n",
              "  'Morris',\n",
              "  'Bergen',\n",
              "  'Monmouth',\n",
              "  'Burlington',\n",
              "  'Hudson'],\n",
              " 'New Mexico': ['Bernalillo'],\n",
              " 'New York': ['Monroe',\n",
              "  'Niagara',\n",
              "  'Bronx',\n",
              "  'New York',\n",
              "  'Queens',\n",
              "  'Steuben',\n",
              "  'Schenectady',\n",
              "  'Erie',\n",
              "  'Suffolk',\n",
              "  'Albany',\n",
              "  'Onondaga'],\n",
              " 'North Carolina': ['Mecklenburg', 'Wake', 'Durham', 'Rowan', 'Forsyth'],\n",
              " 'Ohio': ['Franklin',\n",
              "  'Hamilton',\n",
              "  'Cuyahoga',\n",
              "  'Athens',\n",
              "  'Medina',\n",
              "  'Harrison',\n",
              "  'Belmont',\n",
              "  'Lake',\n",
              "  'Stark',\n",
              "  'Summit',\n",
              "  'Montgomery',\n",
              "  'Preble'],\n",
              " 'Oklahoma': ['Oklahoma', 'Tulsa', 'Kay', 'Cherokee', 'Adair'],\n",
              " 'Oregon': ['Multnomah', 'Washington', 'Lane', 'Jackson'],\n",
              " 'Pennsylvania': ['Dauphin',\n",
              "  'Allegheny',\n",
              "  'Washington',\n",
              "  'Philadelphia',\n",
              "  'Adams',\n",
              "  'Erie',\n",
              "  'York',\n",
              "  'Berks',\n",
              "  'Cambria',\n",
              "  'Bucks',\n",
              "  'Lawrence',\n",
              "  'Northampton',\n",
              "  'Lackawanna'],\n",
              " 'Puerto Rico': ['San Juan', 'Ponce', 'Guaynabo', 'Bayamon', 'Caguas'],\n",
              " 'Rhode Island': ['Providence'],\n",
              " 'South Carolina': ['Charleston', 'Richland', 'Greenville'],\n",
              " 'South Dakota': ['Union', 'Minnehaha'],\n",
              " 'Tennessee': ['Blount', 'Shelby', 'Sullivan', 'Davidson'],\n",
              " 'Texas': ['Jefferson',\n",
              "  'McLennan',\n",
              "  'Bexar',\n",
              "  'Travis',\n",
              "  'El Paso',\n",
              "  'Dallas',\n",
              "  'Tarrant',\n",
              "  'Harris',\n",
              "  'Cameron',\n",
              "  'Webb'],\n",
              " 'Utah': ['Uintah', 'Utah', 'Salt Lake', 'Weber', 'Duchesne'],\n",
              " 'Vermont': ['Rutland', 'Chittenden'],\n",
              " 'Virgin Islands': [],\n",
              " 'Virginia': ['Hampton City',\n",
              "  'Fairfax',\n",
              "  'Virginia Beach City',\n",
              "  'Alexandria City',\n",
              "  'Newport News City',\n",
              "  'Henrico',\n",
              "  'Roanoke City',\n",
              "  'Arlington',\n",
              "  'Richmond City',\n",
              "  'Norfolk City',\n",
              "  'Roanoke'],\n",
              " 'Washington': ['Spokane', 'Clallam', 'Thurston', 'King'],\n",
              " 'West Virginia': ['Hancock', 'Brooke', 'Kanawha'],\n",
              " 'Wisconsin': ['Milwaukee', 'Dodge'],\n",
              " 'Wyoming': ['Laramie', 'Sweetwater', 'Teton', 'Fremont', 'Converse']}"
            ]
          },
          "metadata": {},
          "execution_count": 67
        }
      ]
    },
    {
      "cell_type": "code",
      "metadata": {
        "id": "Cg-K9jgpcwKY",
        "colab": {
          "base_uri": "https://localhost:8080/"
        },
        "outputId": "95bbac64-4845-42cc-e73f-01f32687ac3b"
      },
      "source": [
        "{'California': ['Kern',\n",
        "  'Fresno',\n",
        "  'San Diego',\n",
        "  'Santa Barbara',\n",
        "  'Los Angeles',\n",
        "  'Orange',\n",
        "  'Santa Clara',\n",
        "  'Riverside',\n",
        "  'San Bernardino',\n",
        "  'Marin',\n",
        "  'Butte',\n",
        "  'Inyo',\n",
        "  'Contra Costa',\n",
        "  'Sacramento',\n",
        "  'Napa',\n",
        "  'Sonoma',\n",
        "  'Santa Cruz',\n",
        "  'Solano',\n",
        "  'Madera',\n",
        "  'Sutter',\n",
        "  'Imperial',\n",
        "  'Stanislaus',\n",
        "  'San Francisco',\n",
        "  'Alameda',\n",
        "  'San Mateo',\n",
        "  'San Joaquin',\n",
        "  'Monterey',\n",
        "  'Humboldt'],\n",
        " 'Nevada': ['Washoe', 'Clark', 'Douglas']}"
      ],
      "execution_count": null,
      "outputs": [
        {
          "output_type": "execute_result",
          "data": {
            "text/plain": [
              "{'California': ['Kern',\n",
              "  'Fresno',\n",
              "  'San Diego',\n",
              "  'Santa Barbara',\n",
              "  'Los Angeles',\n",
              "  'Orange',\n",
              "  'Santa Clara',\n",
              "  'Riverside',\n",
              "  'San Bernardino',\n",
              "  'Marin',\n",
              "  'Butte',\n",
              "  'Inyo',\n",
              "  'Contra Costa',\n",
              "  'Sacramento',\n",
              "  'Napa',\n",
              "  'Sonoma',\n",
              "  'Santa Cruz',\n",
              "  'Solano',\n",
              "  'Madera',\n",
              "  'Sutter',\n",
              "  'Imperial',\n",
              "  'Stanislaus',\n",
              "  'San Francisco',\n",
              "  'Alameda',\n",
              "  'San Mateo',\n",
              "  'San Joaquin',\n",
              "  'Monterey',\n",
              "  'Humboldt'],\n",
              " 'Nevada': ['Washoe', 'Clark', 'Douglas']}"
            ]
          },
          "metadata": {},
          "execution_count": 68
        }
      ]
    },
    {
      "cell_type": "code",
      "metadata": {
        "colab": {
          "base_uri": "https://localhost:8080/"
        },
        "id": "2K1vl9rOc1yL",
        "outputId": "a8250d25-5fa4-42ee-eaac-ee7e37d8e628"
      },
      "source": [
        "ff = df[[\"state_name\", \"state_code\", \"county_name\", \"county_code\", 'city_name']]\n",
        "ff = ff[ff[\"city_name\"]!=\"Not in a city\"].reset_index(drop=True)\n",
        "efcnc = ff[ff[\"state_name\"].isin(statenames)].reset_index(drop=True)[[\"state_name\", \"county_name\", \"city_name\"]]\n",
        "efcnc = efcnc.drop_duplicates(keep='first').reset_index(drop=True)\n",
        "ddictc = {}\n",
        "\n",
        "for i in list(set(efcnc[\"county_name\"].values)):\n",
        "  ddictc[i] = list(efcnc[efcnc[\"county_name\"]==i][\"city_name\"].values)\n",
        "ddictc"
      ],
      "execution_count": null,
      "outputs": [
        {
          "output_type": "execute_result",
          "data": {
            "text/plain": [
              "{'Ada': ['Boise (corporate name Boise City)', 'Meridian'],\n",
              " 'Adair': ['Cherry Tree'],\n",
              " 'Adams': ['Welby'],\n",
              " 'Alameda': ['Livermore', 'Oakland', 'Pleasanton', 'Fremont', 'Berkeley'],\n",
              " 'Albany': ['Albany'],\n",
              " 'Alexandria City': ['Alexandria'],\n",
              " 'Allegheny': ['Pittsburgh', 'Wilkinsburg'],\n",
              " 'Allen': ['Fort Wayne'],\n",
              " 'Anchorage ': ['Anchorage'],\n",
              " 'Anoka': ['Blaine'],\n",
              " 'Arlington': ['Arlington'],\n",
              " 'Aroostook': ['Presque Isle'],\n",
              " 'Athens': ['Athens'],\n",
              " 'Baltimore': ['Essex'],\n",
              " 'Baltimore (City)': ['Baltimore'],\n",
              " 'Bayamon': ['Bayamon'],\n",
              " 'Belmont': ['Shadyside'],\n",
              " 'Bergen': ['Fort Lee', 'Hackensack'],\n",
              " 'Bernalillo': ['North Valley', 'Albuquerque', 'South Valley'],\n",
              " 'Bexar': ['San Antonio'],\n",
              " 'Boulder': ['Longmont'],\n",
              " 'Bronx': ['New York'],\n",
              " 'Brooke': ['Weirton'],\n",
              " 'Broward': ['Fort Lauderdale', 'Davie', 'Pompano Beach', 'Hollywood'],\n",
              " 'Bucks': ['Bristol'],\n",
              " 'Burlington': ['Burlington'],\n",
              " 'Butte': ['Chico'],\n",
              " 'Caguas': ['Caguas'],\n",
              " 'Cambria': ['Johnstown'],\n",
              " 'Camden': ['Camden', 'Winslow (Township of)'],\n",
              " 'Cameron': ['Brownsville'],\n",
              " 'Cascade': ['Great Falls'],\n",
              " 'Champaign': ['Bondville'],\n",
              " 'Cherokee': ['Park Hill'],\n",
              " 'Cheshire': ['Keene'],\n",
              " 'Chittenden': ['Underhill (Town of)', 'Burlington'],\n",
              " 'Clark': ['Sunrise Manor', 'Las Vegas', 'North Las Vegas'],\n",
              " 'Contra Costa': ['Concord', 'Bethel Island', 'San Pablo'],\n",
              " 'Cook': ['Chicago',\n",
              "  'Schiller Park',\n",
              "  'Maywood',\n",
              "  'Northbrook',\n",
              "  'Lansing',\n",
              "  'Cicero'],\n",
              " 'Cumberland': ['Portland'],\n",
              " 'Cuyahoga': ['Cleveland', 'Warrensville Heights'],\n",
              " 'Dakota': ['Inver Grove Heights (RR name Inver Grove)',\n",
              "  'Lakeville',\n",
              "  'Rosemount'],\n",
              " 'Dallas': ['Dallas'],\n",
              " 'Davidson': ['Nashville', 'Nashville-Davidson (Remainder)'],\n",
              " 'Denver': ['Denver'],\n",
              " 'Dodge': ['Horicon'],\n",
              " 'Douglas': ['Omaha', 'Stateline'],\n",
              " 'Duchesne': ['Roosevelt'],\n",
              " 'Durham': ['Durham'],\n",
              " 'Duval': ['Jacksonville'],\n",
              " 'East Baton Rouge': ['Baton Rouge'],\n",
              " 'El Paso': ['El Paso', 'Colorado Springs'],\n",
              " 'Erie': ['Erie', 'Buffalo', 'Cheektowaga'],\n",
              " 'Essex': ['Newark', 'Lynn'],\n",
              " 'Fairbanks North Star ': ['Fairbanks'],\n",
              " 'Fairfax': ['Groveton', 'Springfield', 'Annandale', 'McLean'],\n",
              " 'Fairfield': ['Westport', 'Bridgeport'],\n",
              " 'Flathead': ['Kalispell'],\n",
              " 'Forsyth': ['Winston-Salem'],\n",
              " 'Franklin': ['Columbus'],\n",
              " 'Fremont': ['Riverton'],\n",
              " 'Fresno': ['Fresno', 'Clovis'],\n",
              " 'Fulton': ['Atlanta'],\n",
              " 'Gallatin': ['West Yellowstone'],\n",
              " 'Garrett': ['Grantsville'],\n",
              " 'Greene': ['Springfield'],\n",
              " 'Greenville': ['Greenville'],\n",
              " 'Guaynabo': ['Guaynabo'],\n",
              " 'Hamilton': ['Cincinnati'],\n",
              " 'Hampden': ['Chicopee', 'Springfield'],\n",
              " 'Hampton City': ['Hampton'],\n",
              " 'Hancock': ['Weirton'],\n",
              " 'Harris': ['Houston', 'Deer Park'],\n",
              " 'Hartford': ['Hartford', 'East Hartford'],\n",
              " 'Hendricks': ['Pittsboro'],\n",
              " 'Hennepin': ['Minneapolis'],\n",
              " 'Henrico': ['East Highland Park'],\n",
              " 'Hillsborough': ['Tampa',\n",
              "  'Manchester',\n",
              "  'Valrico',\n",
              "  'Peterborough (Peterboro)'],\n",
              " 'Hinds': ['Jackson'],\n",
              " 'Honolulu': ['Honolulu'],\n",
              " 'Howard': ['North Laurel'],\n",
              " 'Hudson': ['Jersey City'],\n",
              " 'Humboldt': ['Eureka'],\n",
              " 'Imperial': ['Calexico', 'El Centro'],\n",
              " 'Jackson': ['Kansas City', 'Medford'],\n",
              " 'Jefferson': ['Nederland', 'Birmingham', 'Louisville', 'Fairfield'],\n",
              " 'Kanawha': ['Charleston'],\n",
              " 'Kent': ['Grand Rapids'],\n",
              " 'Kern': ['Bakersfield', 'Arvin'],\n",
              " 'King': ['Bellevue', 'Seattle'],\n",
              " 'La Paz': ['Wenden'],\n",
              " 'Lackawanna': ['Scranton'],\n",
              " 'Lake': ['Mentor', 'East Chicago'],\n",
              " 'Lancaster': ['Lincoln'],\n",
              " 'Lane': ['Eugene'],\n",
              " 'Larimer': ['Fort Collins'],\n",
              " 'Lawrence': ['New Castle'],\n",
              " 'Linn': ['Cedar Rapids'],\n",
              " 'Litchfield': ['Thomaston', 'Cornwall'],\n",
              " 'Los Angeles': ['West Los Angeles',\n",
              "  'Los Angeles',\n",
              "  'Reseda',\n",
              "  'Compton',\n",
              "  'Pico Rivera',\n",
              "  'Pasadena',\n",
              "  'Long Beach',\n",
              "  'Santa Clarita',\n",
              "  'Lancaster',\n",
              "  'Pomona',\n",
              "  'Azusa',\n",
              "  'Glendora',\n",
              "  'Burbank'],\n",
              " 'Madera': ['Madera'],\n",
              " 'Maricopa': ['Scottsdale',\n",
              "  'Phoenix',\n",
              "  'Tempe',\n",
              "  'Surprise',\n",
              "  'Buckeye',\n",
              "  'Chandler',\n",
              "  'Glendale',\n",
              "  'Mesa'],\n",
              " 'Marin': ['San Rafael'],\n",
              " 'Marion': ['Indianapolis', 'Indianapolis (Remainder)'],\n",
              " 'McLennan': ['Waco'],\n",
              " 'Mecklenburg': ['Charlotte'],\n",
              " 'Mesa': ['Grand Junction'],\n",
              " 'Miami-Dade': ['Miami'],\n",
              " 'Middlesex': ['Perth Amboy', 'Lowell'],\n",
              " 'Milwaukee': ['Milwaukee'],\n",
              " 'Minnehaha': ['Sioux Falls'],\n",
              " 'Missoula': ['Missoula'],\n",
              " 'Monmouth': ['Freehold'],\n",
              " 'Monroe': ['Rochester'],\n",
              " 'Monterey': ['Salinas'],\n",
              " 'Montgomery': ['Dayton'],\n",
              " 'Morris': ['Morristown'],\n",
              " 'Multnomah': ['Portland'],\n",
              " 'Napa': ['Napa'],\n",
              " 'New Castle': ['Delaware City', 'Wilmington'],\n",
              " 'New Haven': ['New Haven'],\n",
              " 'New York': ['New York'],\n",
              " 'Newport News City': ['Newport News'],\n",
              " 'Niagara': ['Niagara Falls'],\n",
              " 'Norfolk City': ['Norfolk'],\n",
              " 'Northampton': ['Freemansburg'],\n",
              " 'Oklahoma': ['Oklahoma City'],\n",
              " 'Onondaga': ['Syracuse'],\n",
              " 'Orange': ['Mission Viejo',\n",
              "  'Anaheim',\n",
              "  'Orlando',\n",
              "  'Costa Mesa',\n",
              "  'Winter Park',\n",
              "  'La Habra'],\n",
              " 'Orleans': ['New Orleans'],\n",
              " 'Peoria': ['Peoria'],\n",
              " 'Philadelphia': ['Philadelphia'],\n",
              " 'Pima': ['Tucson'],\n",
              " 'Pinellas': ['Clearwater', 'Saint Petersburg'],\n",
              " 'Polk': ['Des Moines'],\n",
              " 'Ponce': ['Ponce'],\n",
              " 'Preble': ['New Paris'],\n",
              " \"Prince George's\": ['Beltsville'],\n",
              " 'Providence': ['East Providence', 'Providence'],\n",
              " 'Pulaski': ['North Little Rock'],\n",
              " 'Queens': ['New York'],\n",
              " 'Ramsey': ['St. Paul'],\n",
              " 'Richland': ['Dentsville (Dents)'],\n",
              " 'Richmond City': ['Richmond'],\n",
              " 'Riverside': ['Rubidoux',\n",
              "  'Mira Loma',\n",
              "  'Lake Elsinore',\n",
              "  'Riverside',\n",
              "  'Palm Springs'],\n",
              " 'Roanoke': ['Vinton'],\n",
              " 'Roanoke City': ['Roanoke'],\n",
              " 'Rockingham': ['Londonderry'],\n",
              " 'Rowan': ['Rockwell'],\n",
              " 'Rutland': ['Rutland'],\n",
              " 'Sacramento': ['Arden-Arcade', 'Sacramento'],\n",
              " 'Saint Clair': ['East Saint Louis'],\n",
              " 'Saint Louis': ['Sunset Hills', 'Duluth'],\n",
              " 'Salt Lake': ['Salt Lake City', 'Midvale', 'Cottonwood West', 'Murray'],\n",
              " 'San Bernardino': ['Victorville',\n",
              "  'San Bernardino',\n",
              "  'Ontario',\n",
              "  'Barstow',\n",
              "  'Upland',\n",
              "  'Fontana'],\n",
              " 'San Diego': ['San Diego', 'El Cajon', 'Campo', 'Chula Vista', 'Escondido'],\n",
              " 'San Francisco': ['San Francisco'],\n",
              " 'San Joaquin': ['Stockton'],\n",
              " 'San Juan': ['San Juan'],\n",
              " 'San Mateo': ['Redwood City'],\n",
              " 'Sangamon': ['Springfield'],\n",
              " 'Santa Barbara': ['Capitan',\n",
              "  'Vandenberg Air Force Base',\n",
              "  'Goleta',\n",
              "  'Santa Barbara',\n",
              "  'Santa Maria',\n",
              "  'Lompoc'],\n",
              " 'Santa Clara': ['Cupertino', 'San Jose'],\n",
              " 'Santa Cruz': ['Davenport'],\n",
              " 'Schenectady': ['Schenectady'],\n",
              " 'Scott': ['Davenport'],\n",
              " 'Sedgwick': ['Wichita'],\n",
              " 'Shelby': ['Memphis'],\n",
              " 'Solano': ['Vallejo'],\n",
              " 'Sonoma': ['Santa Rosa', 'Sebastopol'],\n",
              " 'Spokane': ['Spokane'],\n",
              " 'St. Louis City': ['St. Louis'],\n",
              " 'Stanislaus': ['Modesto', 'Turlock'],\n",
              " 'Stark': ['Canton'],\n",
              " 'Stearns': ['St. Cloud'],\n",
              " 'Suffolk': ['Boston', 'Holtsville'],\n",
              " 'Sullivan': ['Kingsport'],\n",
              " 'Summit': ['Akron'],\n",
              " 'Sutter': ['Sutter'],\n",
              " 'Tarrant': ['Arlington', 'Fort Worth'],\n",
              " 'Thurston': ['Lacey'],\n",
              " 'Travis': ['Austin'],\n",
              " 'Tulsa': ['Tulsa'],\n",
              " 'Union': ['Elizabeth'],\n",
              " 'Utah': ['Lindon', 'Provo'],\n",
              " 'Vanderburgh': ['Evansville'],\n",
              " 'Virginia Beach City': ['Virginia Beach'],\n",
              " 'Wake': ['Raleigh'],\n",
              " 'Wakulla': ['Saint Marks'],\n",
              " 'Washington': ['Charleroi', 'Tualatin'],\n",
              " 'Washoe': ['Lemmon Valley-Golden Valley', 'Reno', 'Sparks'],\n",
              " 'Wayne': ['Detroit', 'Livonia', 'Allen Park'],\n",
              " 'Webb': ['Laredo'],\n",
              " 'Weber': ['Ogden', 'Harrisville'],\n",
              " 'Weld': ['Greeley'],\n",
              " 'Winnebago': ['Rockford'],\n",
              " 'Worcester': ['Worcester'],\n",
              " 'Wyandotte': ['Kansas City'],\n",
              " 'Yellowstone': ['Billings'],\n",
              " 'York': ['York']}"
            ]
          },
          "metadata": {},
          "execution_count": 69
        }
      ]
    }
  ]
}